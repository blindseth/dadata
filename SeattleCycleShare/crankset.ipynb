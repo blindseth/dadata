{
 "cells": [
  {
   "cell_type": "markdown",
   "metadata": {},
   "source": [
    "##  First Jupyter notebook, \n",
    "### for Seattle Cycle Share data on kaggle"
   ]
  },
  {
   "cell_type": "markdown",
   "metadata": {},
   "source": [
    "### Part 1 - Exploring the data  ------------------------------------------"
   ]
  },
  {
   "cell_type": "code",
   "execution_count": 1,
   "metadata": {
    "collapsed": true
   },
   "outputs": [],
   "source": [
    "import pandas as pd\n",
    "\n",
    "df_sta = pd.read_csv('station.csv')\n",
    "\n",
    "df_weather = pd.read_csv('weather.csv')\n",
    "\n",
    "df_trips = pd.read_csv('trip.csv', skiprows=[50793])"
   ]
  },
  {
   "cell_type": "code",
   "execution_count": 12,
   "metadata": {
    "collapsed": false
   },
   "outputs": [
    {
     "data": {
      "text/plain": [
       "Index(['station_id', 'name', 'lat', 'long', 'install_date',\n",
       "       'install_dockcount', 'modification_date', 'current_dockcount',\n",
       "       'decommission_date'],\n",
       "      dtype='object')"
      ]
     },
     "execution_count": 12,
     "metadata": {},
     "output_type": "execute_result"
    }
   ],
   "source": [
    "df_sta.columns"
   ]
  },
  {
   "cell_type": "code",
   "execution_count": 13,
   "metadata": {
    "collapsed": false
   },
   "outputs": [
    {
     "data": {
      "text/plain": [
       "Index(['trip_id', 'starttime', 'stoptime', 'bikeid', 'tripduration',\n",
       "       'from_station_name', 'to_station_name', 'from_station_id',\n",
       "       'to_station_id', 'usertype', 'gender', 'birthyear'],\n",
       "      dtype='object')"
      ]
     },
     "execution_count": 13,
     "metadata": {},
     "output_type": "execute_result"
    }
   ],
   "source": [
    "df_trips.columns"
   ]
  },
  {
   "cell_type": "code",
   "execution_count": 17,
   "metadata": {
    "collapsed": false
   },
   "outputs": [
    {
     "data": {
      "text/plain": [
       "286857"
      ]
     },
     "execution_count": 17,
     "metadata": {},
     "output_type": "execute_result"
    }
   ],
   "source": [
    "len(df_trips.trip_id)"
   ]
  },
  {
   "cell_type": "code",
   "execution_count": 47,
   "metadata": {
    "collapsed": false
   },
   "outputs": [
    {
     "data": {
      "text/plain": [
       "236065"
      ]
     },
     "execution_count": 47,
     "metadata": {},
     "output_type": "execute_result"
    }
   ],
   "source": [
    "len(pd.unique(df_trips['trip_id']))"
   ]
  },
  {
   "cell_type": "code",
   "execution_count": 63,
   "metadata": {
    "collapsed": false
   },
   "outputs": [
    {
     "data": {
      "text/plain": [
       "from_station_name\n",
       "Pier 69 / Alaskan Way & Clay St                                           13054\n",
       "E Pine St & 16th Ave                                                      11392\n",
       "3rd Ave & Broad St                                                        10934\n",
       "2nd Ave & Pine St                                                         10049\n",
       "Westlake Ave & 6th Ave                                                     9994\n",
       "E Harrison St & Broadway Ave E                                             9639\n",
       "Cal Anderson Park / 11th Ave & Pine St                                     9468\n",
       "REI / Yale Ave N & John St                                                 8382\n",
       "2nd Ave & Vine St                                                          8168\n",
       "15th Ave E & E Thomas St                                                   7680\n",
       "Key Arena / 1st Ave N & Harrison St                                        7486\n",
       "PATH / 9th Ave & Westlake Ave                                              7206\n",
       "Dexter Ave N & Aloha St                                                    6937\n",
       "Summit Ave & E Denny Way                                                   6768\n",
       "Summit Ave E & E Republican St                                             6576\n",
       "Seattle Aquarium / Alaskan Way S & Elliott Bay Trail                       6357\n",
       "12th Ave & E Mercer St                                                     6322\n",
       "2nd Ave & Blanchard St                                                     6270\n",
       "Pine St & 9th Ave                                                          6060\n",
       "E Blaine St & Fairview Ave E                                               5747\n",
       "Harvard Ave & E Pine St                                                    5698\n",
       "Lake Union Park / Valley St & Boren Ave N                                  5676\n",
       "Republican St & Westlake Ave N                                             5673\n",
       "Occidental Park / Occidental Ave S & S Washington St                       5647\n",
       "1st Ave & Marion St                                                        5626\n",
       "7th Ave & Union St                                                         5555\n",
       "Bellevue Ave & E Pine St                                                   5548\n",
       "2nd Ave & Spring St                                                        5464\n",
       "9th Ave N & Mercer St                                                      5161\n",
       "6th Ave & Blanchard St                                                     4684\n",
       "                                                                          ...  \n",
       "Seattle University / E Columbia St & 12th Ave                              4077\n",
       "King Street Station Plaza / 2nd Ave Extension S & S Jackson St             3868\n",
       "12th Ave & E Denny Way                                                     3837\n",
       "Burke-Gilman Trail / NE Blakeley St & 24th Ave NE                          3784\n",
       "Eastlake Ave E & E Allison St                                              3645\n",
       "City Hall / 4th Ave & James St                                             3632\n",
       "12th Ave & NE Campus Pkwy                                                  3630\n",
       "Fred Hutchinson Cancer Research Center / Fairview Ave N & Ward St          3580\n",
       "Frye Art Museum / Terry Ave & Columbia St                                  3282\n",
       "15th Ave NE & NE 40th St                                                   2801\n",
       "6th Ave S & S King St                                                      2731\n",
       "Union St & 4th Ave                                                         2693\n",
       "UW Engineering Library / E Stevens Way NE & Jefferson Rd                   2689\n",
       "NE 47th St & 12th Ave NE                                                   2555\n",
       "Terry Ave & Stewart St                                                     2134\n",
       "Burke Museum / E Stevens Way NE & Memorial Way NE                          2068\n",
       "UW Intramural Activities Building                                          1848\n",
       "Children's Hospital / Sandpoint Way NE & 40th Ave NE                       1657\n",
       "NE 42nd St & University Way NE                                             1434\n",
       "UW Magnuson Health Sciences Center Rotunda / Columbia Rd & San Juan Rd     1398\n",
       "Broadway and E Denny Way                                                   1288\n",
       "NE Pacific St/UW Medical Center                                             988\n",
       "12th Ave & E Yesler Way                                                     958\n",
       "Mercer St & 9th Ave N                                                       863\n",
       "Thomas St & 5th Ave N                                                       761\n",
       "UW McCarty Hall / Whitman Ct                                                752\n",
       "Pier 66 / Alaskan Way & Bell St                                             160\n",
       "8D OPS 02                                                                     2\n",
       "Pronto shop 2                                                                 2\n",
       "Pronto shop                                                                   1\n",
       "Name: trip_id, dtype: int64"
      ]
     },
     "execution_count": 63,
     "metadata": {},
     "output_type": "execute_result"
    }
   ],
   "source": [
    "df_trips.groupby(by='from_station_name').trip_id.count().sort_values(ascending = False)"
   ]
  },
  {
   "cell_type": "code",
   "execution_count": 64,
   "metadata": {
    "collapsed": false
   },
   "outputs": [
    {
     "data": {
      "text/plain": [
       "13054"
      ]
     },
     "execution_count": 64,
     "metadata": {},
     "output_type": "execute_result"
    }
   ],
   "source": [
    "df_trips[df_trips['from_station_name'] =='Pier 69 / Alaskan Way & Clay St'].trip_id.count()      # checking.."
   ]
  },
  {
   "cell_type": "code",
   "execution_count": 54,
   "metadata": {
    "collapsed": false
   },
   "outputs": [
    {
     "data": {
      "text/plain": [
       "gender\n",
       "Female     37562\n",
       "Male      140564\n",
       "Other       3431\n",
       "Name: trip_id, dtype: int64"
      ]
     },
     "execution_count": 54,
     "metadata": {},
     "output_type": "execute_result"
    }
   ],
   "source": [
    "df_trips.groupby(by='gender').trip_id.count()"
   ]
  },
  {
   "cell_type": "code",
   "execution_count": 57,
   "metadata": {
    "collapsed": false
   },
   "outputs": [
    {
     "data": {
      "text/plain": [
       "140564"
      ]
     },
     "execution_count": 57,
     "metadata": {},
     "output_type": "execute_result"
    }
   ],
   "source": [
    "df_trips[df_trips.gender=='Male'].trip_id.count()   # testing 1,2"
   ]
  },
  {
   "cell_type": "code",
   "execution_count": 51,
   "metadata": {
    "collapsed": false
   },
   "outputs": [
    {
     "data": {
      "text/plain": [
       "37562"
      ]
     },
     "execution_count": 51,
     "metadata": {},
     "output_type": "execute_result"
    }
   ],
   "source": [
    "df_trips[df_trips.gender=='Female'].trip_id.count()"
   ]
  },
  {
   "cell_type": "code",
   "execution_count": 65,
   "metadata": {
    "collapsed": false
   },
   "outputs": [
    {
     "data": {
      "text/plain": [
       "Index(['Date', 'Max_Temperature_F', 'Mean_Temperature_F', 'Min_TemperatureF',\n",
       "       'Max_Dew_Point_F', 'MeanDew_Point_F', 'Min_Dewpoint_F', 'Max_Humidity',\n",
       "       'Mean_Humidity', 'Min_Humidity', 'Max_Sea_Level_Pressure_In',\n",
       "       'Mean_Sea_Level_Pressure_In', 'Min_Sea_Level_Pressure_In',\n",
       "       'Max_Visibility_Miles', 'Mean_Visibility_Miles', 'Min_Visibility_Miles',\n",
       "       'Max_Wind_Speed_MPH', 'Mean_Wind_Speed_MPH', 'Max_Gust_Speed_MPH',\n",
       "       'Precipitation_In', 'Events'],\n",
       "      dtype='object')"
      ]
     },
     "execution_count": 65,
     "metadata": {},
     "output_type": "execute_result"
    }
   ],
   "source": [
    "df_weather.columns"
   ]
  },
  {
   "cell_type": "code",
   "execution_count": 73,
   "metadata": {
    "collapsed": false
   },
   "outputs": [
    {
     "data": {
      "text/plain": [
       "'1/1/2015'"
      ]
     },
     "execution_count": 73,
     "metadata": {},
     "output_type": "execute_result"
    }
   ],
   "source": [
    "df_weather.Date.min()"
   ]
  },
  {
   "cell_type": "code",
   "execution_count": 74,
   "metadata": {
    "collapsed": false
   },
   "outputs": [
    {
     "data": {
      "text/plain": [
       "'9/9/2015'"
      ]
     },
     "execution_count": 74,
     "metadata": {},
     "output_type": "execute_result"
    }
   ],
   "source": [
    "df_weather.Date.max()"
   ]
  },
  {
   "cell_type": "code",
   "execution_count": 68,
   "metadata": {
    "collapsed": false,
    "scrolled": true
   },
   "outputs": [
    {
     "data": {
      "text/plain": [
       "Mean_Temperature_F\n",
       "33.0     1\n",
       "34.0     7\n",
       "35.0     4\n",
       "36.0     3\n",
       "38.0     9\n",
       "39.0     6\n",
       "40.0    10\n",
       "41.0     7\n",
       "42.0    21\n",
       "43.0     3\n",
       "44.0    22\n",
       "45.0     6\n",
       "46.0    18\n",
       "47.0    15\n",
       "48.0    42\n",
       "49.0    14\n",
       "50.0    37\n",
       "51.0     8\n",
       "52.0    43\n",
       "53.0     2\n",
       "54.0    30\n",
       "55.0    14\n",
       "56.0    29\n",
       "57.0    12\n",
       "58.0    35\n",
       "59.0    14\n",
       "60.0    39\n",
       "61.0     7\n",
       "62.0    20\n",
       "63.0     7\n",
       "64.0    26\n",
       "65.0    12\n",
       "66.0    39\n",
       "67.0    10\n",
       "68.0    23\n",
       "69.0     5\n",
       "70.0    19\n",
       "71.0     8\n",
       "72.0    17\n",
       "73.0     6\n",
       "74.0     9\n",
       "75.0     6\n",
       "76.0     6\n",
       "77.0     4\n",
       "78.0     9\n",
       "80.0     3\n",
       "83.0     1\n",
       "Name: Date, dtype: int64"
      ]
     },
     "execution_count": 68,
     "metadata": {},
     "output_type": "execute_result"
    }
   ],
   "source": [
    "df_weather.groupby(by='Mean_Temperature_F').Date.count()"
   ]
  },
  {
   "cell_type": "code",
   "execution_count": 71,
   "metadata": {
    "collapsed": false
   },
   "outputs": [
    {
     "data": {
      "text/plain": [
       "Precipitation_In\n",
       "0.00    395\n",
       "0.01     36\n",
       "0.02     18\n",
       "0.03     15\n",
       "0.04     11\n",
       "0.05     12\n",
       "0.06     10\n",
       "0.07     10\n",
       "0.08      4\n",
       "0.09      9\n",
       "0.10      6\n",
       "0.11      8\n",
       "0.12     10\n",
       "0.13      6\n",
       "0.14      3\n",
       "0.15      6\n",
       "0.16      6\n",
       "0.17      2\n",
       "0.18      4\n",
       "0.19      2\n",
       "0.20      5\n",
       "0.21      3\n",
       "0.22      5\n",
       "0.23      1\n",
       "0.24      3\n",
       "0.25      2\n",
       "0.26      1\n",
       "0.27      6\n",
       "0.28      1\n",
       "0.29      2\n",
       "       ... \n",
       "0.56      2\n",
       "0.57      2\n",
       "0.58      1\n",
       "0.60      2\n",
       "0.61      1\n",
       "0.63      1\n",
       "0.67      2\n",
       "0.68      1\n",
       "0.71      1\n",
       "0.73      1\n",
       "0.74      1\n",
       "0.75      2\n",
       "0.76      1\n",
       "0.77      2\n",
       "0.80      1\n",
       "0.81      1\n",
       "0.82      2\n",
       "0.83      1\n",
       "0.86      1\n",
       "0.87      1\n",
       "0.97      1\n",
       "0.99      1\n",
       "1.06      1\n",
       "1.27      1\n",
       "1.31      1\n",
       "1.39      1\n",
       "1.43      1\n",
       "1.51      1\n",
       "1.64      1\n",
       "2.20      1\n",
       "Name: Date, dtype: int64"
      ]
     },
     "execution_count": 71,
     "metadata": {},
     "output_type": "execute_result"
    }
   ],
   "source": [
    "df_weather.groupby(by='Precipitation_In').Date.count()    # how much precipitation makes a day rainy?"
   ]
  },
  {
   "cell_type": "code",
   "execution_count": 81,
   "metadata": {
    "collapsed": false
   },
   "outputs": [
    {
     "data": {
      "text/plain": [
       "125"
      ]
     },
     "execution_count": 81,
     "metadata": {},
     "output_type": "execute_result"
    }
   ],
   "source": [
    "df_weather[(df_weather.Precipitation_In > 0) & (df_weather.Precipitation_In < 0.10)].Date.count()"
   ]
  },
  {
   "cell_type": "code",
   "execution_count": 82,
   "metadata": {
    "collapsed": false
   },
   "outputs": [
    {
     "data": {
      "text/plain": [
       "47"
      ]
     },
     "execution_count": 82,
     "metadata": {},
     "output_type": "execute_result"
    }
   ],
   "source": [
    "df_weather[(df_weather.Precipitation_In > 0.10) & (df_weather.Precipitation_In < 0.20)].Date.count()"
   ]
  },
  {
   "cell_type": "code",
   "execution_count": 83,
   "metadata": {
    "collapsed": false
   },
   "outputs": [
    {
     "data": {
      "text/plain": [
       "24"
      ]
     },
     "execution_count": 83,
     "metadata": {},
     "output_type": "execute_result"
    }
   ],
   "source": [
    "df_weather[(df_weather.Precipitation_In > 0.20) & (df_weather.Precipitation_In < 0.30)].Date.count()"
   ]
  },
  {
   "cell_type": "code",
   "execution_count": 86,
   "metadata": {
    "collapsed": false
   },
   "outputs": [
    {
     "data": {
      "text/plain": [
       "85"
      ]
     },
     "execution_count": 86,
     "metadata": {},
     "output_type": "execute_result"
    }
   ],
   "source": [
    "df_weather[(df_weather.Precipitation_In > 0.30)].Date.count()"
   ]
  },
  {
   "cell_type": "markdown",
   "metadata": {},
   "source": [
    "### Part 2 - Counting trips  ---------------------------------------------- "
   ]
  },
  {
   "cell_type": "code",
   "execution_count": 38,
   "metadata": {
    "collapsed": true
   },
   "outputs": [],
   "source": [
    "df_num_tr = pd.DataFrame(index=df_sta.station_id, # trip count\n",
    "                columns=df_sta.station_id)        # not controlling for weather"
   ]
  },
  {
   "cell_type": "code",
   "execution_count": 39,
   "metadata": {
    "collapsed": true
   },
   "outputs": [],
   "source": [
    "for i in df_sta.station_id:                 # from\n",
    "    for j in df_sta.station_id:             # to \n",
    "        df_num_tr[i][j] = len(df_trips[(df_trips.from_station_id==i) & \n",
    "        (df_trips.to_station_id==j)].trip_id)"
   ]
  },
  {
   "cell_type": "code",
   "execution_count": null,
   "metadata": {
    "collapsed": true
   },
   "outputs": [],
   "source": []
  }
 ],
 "metadata": {
  "kernelspec": {
   "display_name": "Python 3",
   "language": "python",
   "name": "python3"
  },
  "language_info": {
   "codemirror_mode": {
    "name": "ipython",
    "version": 3
   },
   "file_extension": ".py",
   "mimetype": "text/x-python",
   "name": "python",
   "nbconvert_exporter": "python",
   "pygments_lexer": "ipython3",
   "version": "3.5.2"
  }
 },
 "nbformat": 4,
 "nbformat_minor": 2
}
