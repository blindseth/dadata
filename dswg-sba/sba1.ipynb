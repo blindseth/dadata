{
 "cells": [
  {
   "cell_type": "markdown",
   "metadata": {
    "collapsed": true,
    "deletable": true,
    "editable": true
   },
   "source": [
    "## SBA - 504 & 7a "
   ]
  },
  {
   "cell_type": "markdown",
   "metadata": {
    "deletable": true,
    "editable": true
   },
   "source": [
    "### 504 loans (through Certified Development Company) "
   ]
  },
  {
   "cell_type": "code",
   "execution_count": null,
   "metadata": {
    "collapsed": true,
    "deletable": true,
    "editable": true
   },
   "outputs": [],
   "source": [
    "import pandas as pd"
   ]
  },
  {
   "cell_type": "code",
   "execution_count": 4,
   "metadata": {
    "collapsed": false,
    "deletable": true,
    "editable": true
   },
   "outputs": [],
   "source": [
    "# First pass only. then use csv \n",
    "\n",
    "# import xlrd\n",
    "# xls_504 = pd.read_excel('SBAcopy.xlsx')                 \n",
    "# xls_504.to_csv('SBA_504.csv')"
   ]
  },
  {
   "cell_type": "code",
   "execution_count": 42,
   "metadata": {
    "collapsed": true,
    "deletable": true,
    "editable": true
   },
   "outputs": [],
   "source": [
    "SBA_504 = pd.read_csv('SBA_504.csv', low_memory=False)    # DtypeWarning: Columns (12,13,14,20) have mixed types. \n",
    "                                                          # Specify dtype option on import or set low_memory=False"
   ]
  },
  {
   "cell_type": "code",
   "execution_count": 43,
   "metadata": {
    "collapsed": false,
    "deletable": true,
    "editable": true
   },
   "outputs": [
    {
     "data": {
      "text/plain": [
       "Index(['Unnamed: 0', 'Program', 'BorrName', 'BorrStreet', 'BorrCity',\n",
       "       'BorrState', 'BorrZip', 'CDC_Name', 'CDC_Street', 'CDC_City',\n",
       "       'CDC_State', 'CDC_Zip', 'ThirdPartyLender_Name',\n",
       "       'ThirdPartyLender_City', 'ThirdPartyLender_State', 'ThirdPartyDollars',\n",
       "       'GrossApproval', 'ApprovalDate', 'ApprovalFiscalYear',\n",
       "       'FirstDisbursementDate', 'DeliveryMethod', 'subpgmdesc',\n",
       "       'InitialInterestRate', 'TermInMonths', 'NaicsCode', 'NaicsDescription',\n",
       "       'FranchiseCode', 'FranchiseName', 'ProjectCounty', 'ProjectState',\n",
       "       'SBADistrictOffice', 'CongressionalDistrict', 'BusinessType',\n",
       "       'LoanStatus', 'ChargeOffDate', 'GrossChargeOffAmount', 'JobsSupported'],\n",
       "      dtype='object')"
      ]
     },
     "execution_count": 43,
     "metadata": {},
     "output_type": "execute_result"
    }
   ],
   "source": [
    "SBA_504.columns"
   ]
  },
  {
   "cell_type": "code",
   "execution_count": 89,
   "metadata": {
    "collapsed": false,
    "deletable": true,
    "editable": true
   },
   "outputs": [],
   "source": [
    "# xls_504.describe()"
   ]
  },
  {
   "cell_type": "code",
   "execution_count": 46,
   "metadata": {
    "collapsed": false,
    "deletable": true,
    "editable": true
   },
   "outputs": [
    {
     "data": {
      "text/plain": [
       "ProjectState\n",
       "CA    32255\n",
       "FL    10618\n",
       "TX     7790\n",
       "IL     6658\n",
       "MN     6565\n",
       "NY     6412\n",
       "OH     5866\n",
       "UT     5508\n",
       "CO     5082\n",
       "GA     4419\n",
       "Name: Program, dtype: int64"
      ]
     },
     "execution_count": 46,
     "metadata": {},
     "output_type": "execute_result"
    }
   ],
   "source": [
    "# Counts of programs grouped by location of projects\n",
    "\n",
    "SBA_504.groupby(by='ProjectState').Program.count().sort_values(ascending = False).head(10)"
   ]
  },
  {
   "cell_type": "code",
   "execution_count": 47,
   "metadata": {
    "collapsed": false,
    "deletable": true,
    "editable": true
   },
   "outputs": [
    {
     "data": {
      "text/plain": [
       "BorrState\n",
       "CA    32304\n",
       "FL    10611\n",
       "TX     7793\n",
       "IL     6660\n",
       "MN     6564\n",
       "NY     6425\n",
       "OH     5866\n",
       "UT     5521\n",
       "CO     5085\n",
       "GA     4422\n",
       "Name: Program, dtype: int64"
      ]
     },
     "execution_count": 47,
     "metadata": {},
     "output_type": "execute_result"
    }
   ],
   "source": [
    "# Counts of programs grouped by state where loan was borrowed from\n",
    "\n",
    "SBA_504.groupby(by='BorrState').Program.count().sort_values(ascending = False).head(10)"
   ]
  },
  {
   "cell_type": "code",
   "execution_count": 52,
   "metadata": {
    "collapsed": false,
    "deletable": true,
    "editable": true
   },
   "outputs": [
    {
     "data": {
      "text/plain": [
       "32248"
      ]
     },
     "execution_count": 52,
     "metadata": {},
     "output_type": "execute_result"
    }
   ],
   "source": [
    "# Number of projects based in CA doesn't match the number of projects borrowing from CA\n",
    "# Below is the number of projects based in CA that also borrow from CA\n",
    "\n",
    "SBA_504[(SBA_504.BorrState=='CA') & (SBA_504.ProjectState=='CA')].ProjectState.count()   "
   ]
  },
  {
   "cell_type": "code",
   "execution_count": 71,
   "metadata": {
    "collapsed": false,
    "deletable": true,
    "editable": true
   },
   "outputs": [
    {
     "data": {
      "text/plain": [
       "7"
      ]
     },
     "execution_count": 71,
     "metadata": {},
     "output_type": "execute_result"
    }
   ],
   "source": [
    "# Number of programs where project was based in CA but lendor was not\n",
    "\n",
    "SBA_504[(SBA_504.BorrState != 'CA') & (SBA_504.ProjectState == 'CA')].BorrState.count()"
   ]
  },
  {
   "cell_type": "code",
   "execution_count": 70,
   "metadata": {
    "collapsed": false,
    "deletable": true,
    "editable": true,
    "scrolled": true
   },
   "outputs": [
    {
     "data": {
      "text/plain": [
       "BorrState\n",
       "NV    2\n",
       "VA    1\n",
       "LA    1\n",
       "KS    1\n",
       "CT    1\n",
       "AZ    1\n",
       "Name: BorrState, dtype: int64"
      ]
     },
     "execution_count": 70,
     "metadata": {},
     "output_type": "execute_result"
    }
   ],
   "source": [
    "# When CA-based projects borrowed from outside of CA, where did they borrow from?\n",
    "\n",
    "SBA_504[(SBA_504.BorrState != 'CA') & (SBA_504.ProjectState == 'CA')].groupby(by='BorrState').BorrState.count().sort_values(ascending=False)"
   ]
  },
  {
   "cell_type": "code",
   "execution_count": 72,
   "metadata": {
    "collapsed": false,
    "deletable": true,
    "editable": true
   },
   "outputs": [
    {
     "data": {
      "text/plain": [
       "56"
      ]
     },
     "execution_count": 72,
     "metadata": {},
     "output_type": "execute_result"
    }
   ],
   "source": [
    "# Number of programs where lendor was based in CA but project was not\n",
    "\n",
    "SBA_504[(SBA_504.BorrState == 'CA') & (SBA_504.ProjectState != 'CA')].ProjectState.count()"
   ]
  },
  {
   "cell_type": "code",
   "execution_count": 73,
   "metadata": {
    "collapsed": false,
    "deletable": true,
    "editable": true
   },
   "outputs": [
    {
     "data": {
      "text/plain": [
       "ProjectState\n",
       "AR    20\n",
       "NV     9\n",
       "AL     8\n",
       "OR     6\n",
       "FL     4\n",
       "WA     2\n",
       "IA     2\n",
       "AZ     2\n",
       "MI     1\n",
       "LA     1\n",
       "IL     1\n",
       "Name: ProjectState, dtype: int64"
      ]
     },
     "execution_count": 73,
     "metadata": {},
     "output_type": "execute_result"
    }
   ],
   "source": [
    "# When CA-based lendors lend to projects outside of CA, where are those projects based?\n",
    "\n",
    "SBA_504[(SBA_504.BorrState == 'CA') & (SBA_504.ProjectState != 'CA')].groupby(by='ProjectState').ProjectState.count().sort_values(ascending=False)"
   ]
  },
  {
   "cell_type": "code",
   "execution_count": 75,
   "metadata": {
    "collapsed": false,
    "deletable": true,
    "editable": true
   },
   "outputs": [
    {
     "data": {
      "text/plain": [
       "SBADistrictOffice\n",
       "SAN DIEGO DISTRICT OFFICE         11\n",
       "SAN FRANCISCO DISTRICT OFFICE      5\n",
       "SANTA ANA DISTRICT OFFICE          4\n",
       "Name: ProjectState, dtype: int64"
      ]
     },
     "execution_count": 75,
     "metadata": {},
     "output_type": "execute_result"
    }
   ],
   "source": [
    "# Arkansas?! Below are SBA district offices for Arkansas based projects linked with funding in CA\n",
    "\n",
    "SBA_504[(SBA_504.BorrState == 'CA') & (SBA_504.ProjectState == 'AR')].groupby(by='SBADistrictOffice').ProjectState.count().sort_values(ascending=False)"
   ]
  },
  {
   "cell_type": "code",
   "execution_count": 93,
   "metadata": {
    "collapsed": false
   },
   "outputs": [
    {
     "data": {
      "text/plain": [
       "SBADistrictOffice\n",
       "SAN FRANCISCO DISTRICT OFFICE     17\n",
       "SAN DIEGO DISTRICT OFFICE         11\n",
       "SANTA ANA DISTRICT OFFICE          4\n",
       "DES MOINES DISTRICT OFFICE         1\n",
       "CEDAR RAPIDS BRANCH OFFICE         1\n",
       "Name: ProjectState, dtype: int64"
      ]
     },
     "execution_count": 93,
     "metadata": {},
     "output_type": "execute_result"
    }
   ],
   "source": [
    "# SBA offices for top non contiguous project states borrowing from CA\n",
    "\n",
    "SBA_504[(SBA_504.BorrState == 'CA') & (SBA_504.ProjectState.isin(['AR','AL','FL','IA']))].groupby(by='SBADistrictOffice').ProjectState.count().sort_values(ascending=False)"
   ]
  },
  {
   "cell_type": "code",
   "execution_count": 90,
   "metadata": {
    "collapsed": false,
    "deletable": true,
    "editable": true
   },
   "outputs": [],
   "source": [
    "# Need to come back to this - raise ValueError(\"The truth value of a {0} is ambiguous.\n",
    "\n",
    "# SBA_504[((SBA_504.BorrState == 'CA') & (SBA_504.ProjectState != 'CA')) \n",
    "#         or ((SBA_504.BorrState !='CA') & (SBA_504.ProjectState == 'CA'))].BorrState.count()"
   ]
  },
  {
   "cell_type": "code",
   "execution_count": 147,
   "metadata": {
    "collapsed": false
   },
   "outputs": [
    {
     "data": {
      "text/html": [
       "<div>\n",
       "<table border=\"1\" class=\"dataframe\">\n",
       "  <thead>\n",
       "    <tr>\n",
       "      <th></th>\n",
       "      <th colspan=\"10\" halign=\"left\">Unnamed: 0</th>\n",
       "      <th>...</th>\n",
       "      <th colspan=\"10\" halign=\"left\">JobsSupported</th>\n",
       "    </tr>\n",
       "    <tr>\n",
       "      <th>SBADistrictOffice</th>\n",
       "      <th>ARIZONA DISTRICT OFFICE</th>\n",
       "      <th>CEDAR RAPIDS BRANCH OFFICE</th>\n",
       "      <th>DES MOINES DISTRICT OFFICE</th>\n",
       "      <th>FRESNO DISTRICT OFFICE</th>\n",
       "      <th>LOS ANGELES DISTRICT OFFICE</th>\n",
       "      <th>LOUISIANA DISTRICT OFFICE</th>\n",
       "      <th>MICHIGAN DISTRICT OFFICE</th>\n",
       "      <th>NEVADA DISTRICT OFFICE</th>\n",
       "      <th>PORTLAND DISTRICT OFFICE</th>\n",
       "      <th>SACRAMENTO DISTRICT OFFICE</th>\n",
       "      <th>...</th>\n",
       "      <th>LOS ANGELES DISTRICT OFFICE</th>\n",
       "      <th>LOUISIANA DISTRICT OFFICE</th>\n",
       "      <th>MICHIGAN DISTRICT OFFICE</th>\n",
       "      <th>NEVADA DISTRICT OFFICE</th>\n",
       "      <th>PORTLAND DISTRICT OFFICE</th>\n",
       "      <th>SACRAMENTO DISTRICT OFFICE</th>\n",
       "      <th>SAN DIEGO DISTRICT OFFICE</th>\n",
       "      <th>SAN FRANCISCO DISTRICT OFFICE</th>\n",
       "      <th>SANTA ANA DISTRICT OFFICE</th>\n",
       "      <th>SPRINGFIELD BRANCH OFFICE</th>\n",
       "    </tr>\n",
       "    <tr>\n",
       "      <th>ProjectState</th>\n",
       "      <th></th>\n",
       "      <th></th>\n",
       "      <th></th>\n",
       "      <th></th>\n",
       "      <th></th>\n",
       "      <th></th>\n",
       "      <th></th>\n",
       "      <th></th>\n",
       "      <th></th>\n",
       "      <th></th>\n",
       "      <th></th>\n",
       "      <th></th>\n",
       "      <th></th>\n",
       "      <th></th>\n",
       "      <th></th>\n",
       "      <th></th>\n",
       "      <th></th>\n",
       "      <th></th>\n",
       "      <th></th>\n",
       "      <th></th>\n",
       "      <th></th>\n",
       "    </tr>\n",
       "  </thead>\n",
       "  <tbody>\n",
       "    <tr>\n",
       "      <th>AL</th>\n",
       "      <td>NaN</td>\n",
       "      <td>NaN</td>\n",
       "      <td>NaN</td>\n",
       "      <td>NaN</td>\n",
       "      <td>NaN</td>\n",
       "      <td>NaN</td>\n",
       "      <td>NaN</td>\n",
       "      <td>NaN</td>\n",
       "      <td>NaN</td>\n",
       "      <td>NaN</td>\n",
       "      <td>...</td>\n",
       "      <td>NaN</td>\n",
       "      <td>NaN</td>\n",
       "      <td>NaN</td>\n",
       "      <td>NaN</td>\n",
       "      <td>NaN</td>\n",
       "      <td>NaN</td>\n",
       "      <td>NaN</td>\n",
       "      <td>81.0</td>\n",
       "      <td>NaN</td>\n",
       "      <td>NaN</td>\n",
       "    </tr>\n",
       "    <tr>\n",
       "      <th>AR</th>\n",
       "      <td>NaN</td>\n",
       "      <td>NaN</td>\n",
       "      <td>NaN</td>\n",
       "      <td>NaN</td>\n",
       "      <td>NaN</td>\n",
       "      <td>NaN</td>\n",
       "      <td>NaN</td>\n",
       "      <td>NaN</td>\n",
       "      <td>NaN</td>\n",
       "      <td>NaN</td>\n",
       "      <td>...</td>\n",
       "      <td>NaN</td>\n",
       "      <td>NaN</td>\n",
       "      <td>NaN</td>\n",
       "      <td>NaN</td>\n",
       "      <td>NaN</td>\n",
       "      <td>NaN</td>\n",
       "      <td>81.0</td>\n",
       "      <td>81.0</td>\n",
       "      <td>81.0</td>\n",
       "      <td>NaN</td>\n",
       "    </tr>\n",
       "    <tr>\n",
       "      <th>AZ</th>\n",
       "      <td>81.0</td>\n",
       "      <td>NaN</td>\n",
       "      <td>NaN</td>\n",
       "      <td>NaN</td>\n",
       "      <td>NaN</td>\n",
       "      <td>NaN</td>\n",
       "      <td>NaN</td>\n",
       "      <td>NaN</td>\n",
       "      <td>NaN</td>\n",
       "      <td>NaN</td>\n",
       "      <td>...</td>\n",
       "      <td>NaN</td>\n",
       "      <td>NaN</td>\n",
       "      <td>NaN</td>\n",
       "      <td>NaN</td>\n",
       "      <td>NaN</td>\n",
       "      <td>NaN</td>\n",
       "      <td>NaN</td>\n",
       "      <td>NaN</td>\n",
       "      <td>NaN</td>\n",
       "      <td>NaN</td>\n",
       "    </tr>\n",
       "    <tr>\n",
       "      <th>CA</th>\n",
       "      <td>NaN</td>\n",
       "      <td>NaN</td>\n",
       "      <td>NaN</td>\n",
       "      <td>81.0</td>\n",
       "      <td>81.0</td>\n",
       "      <td>NaN</td>\n",
       "      <td>NaN</td>\n",
       "      <td>NaN</td>\n",
       "      <td>NaN</td>\n",
       "      <td>81.0</td>\n",
       "      <td>...</td>\n",
       "      <td>81.0</td>\n",
       "      <td>NaN</td>\n",
       "      <td>NaN</td>\n",
       "      <td>NaN</td>\n",
       "      <td>NaN</td>\n",
       "      <td>81.0</td>\n",
       "      <td>81.0</td>\n",
       "      <td>81.0</td>\n",
       "      <td>81.0</td>\n",
       "      <td>NaN</td>\n",
       "    </tr>\n",
       "    <tr>\n",
       "      <th>FL</th>\n",
       "      <td>NaN</td>\n",
       "      <td>NaN</td>\n",
       "      <td>NaN</td>\n",
       "      <td>NaN</td>\n",
       "      <td>NaN</td>\n",
       "      <td>NaN</td>\n",
       "      <td>NaN</td>\n",
       "      <td>NaN</td>\n",
       "      <td>NaN</td>\n",
       "      <td>NaN</td>\n",
       "      <td>...</td>\n",
       "      <td>NaN</td>\n",
       "      <td>NaN</td>\n",
       "      <td>NaN</td>\n",
       "      <td>NaN</td>\n",
       "      <td>NaN</td>\n",
       "      <td>NaN</td>\n",
       "      <td>NaN</td>\n",
       "      <td>81.0</td>\n",
       "      <td>NaN</td>\n",
       "      <td>NaN</td>\n",
       "    </tr>\n",
       "    <tr>\n",
       "      <th>IA</th>\n",
       "      <td>NaN</td>\n",
       "      <td>81.0</td>\n",
       "      <td>81.0</td>\n",
       "      <td>NaN</td>\n",
       "      <td>NaN</td>\n",
       "      <td>NaN</td>\n",
       "      <td>NaN</td>\n",
       "      <td>NaN</td>\n",
       "      <td>NaN</td>\n",
       "      <td>NaN</td>\n",
       "      <td>...</td>\n",
       "      <td>NaN</td>\n",
       "      <td>NaN</td>\n",
       "      <td>NaN</td>\n",
       "      <td>NaN</td>\n",
       "      <td>NaN</td>\n",
       "      <td>NaN</td>\n",
       "      <td>NaN</td>\n",
       "      <td>NaN</td>\n",
       "      <td>NaN</td>\n",
       "      <td>NaN</td>\n",
       "    </tr>\n",
       "    <tr>\n",
       "      <th>IL</th>\n",
       "      <td>NaN</td>\n",
       "      <td>NaN</td>\n",
       "      <td>NaN</td>\n",
       "      <td>NaN</td>\n",
       "      <td>NaN</td>\n",
       "      <td>NaN</td>\n",
       "      <td>NaN</td>\n",
       "      <td>NaN</td>\n",
       "      <td>NaN</td>\n",
       "      <td>NaN</td>\n",
       "      <td>...</td>\n",
       "      <td>NaN</td>\n",
       "      <td>NaN</td>\n",
       "      <td>NaN</td>\n",
       "      <td>NaN</td>\n",
       "      <td>NaN</td>\n",
       "      <td>NaN</td>\n",
       "      <td>NaN</td>\n",
       "      <td>NaN</td>\n",
       "      <td>NaN</td>\n",
       "      <td>81.0</td>\n",
       "    </tr>\n",
       "    <tr>\n",
       "      <th>LA</th>\n",
       "      <td>NaN</td>\n",
       "      <td>NaN</td>\n",
       "      <td>NaN</td>\n",
       "      <td>NaN</td>\n",
       "      <td>NaN</td>\n",
       "      <td>81.0</td>\n",
       "      <td>NaN</td>\n",
       "      <td>NaN</td>\n",
       "      <td>NaN</td>\n",
       "      <td>NaN</td>\n",
       "      <td>...</td>\n",
       "      <td>NaN</td>\n",
       "      <td>81.0</td>\n",
       "      <td>NaN</td>\n",
       "      <td>NaN</td>\n",
       "      <td>NaN</td>\n",
       "      <td>NaN</td>\n",
       "      <td>NaN</td>\n",
       "      <td>NaN</td>\n",
       "      <td>NaN</td>\n",
       "      <td>NaN</td>\n",
       "    </tr>\n",
       "    <tr>\n",
       "      <th>MI</th>\n",
       "      <td>NaN</td>\n",
       "      <td>NaN</td>\n",
       "      <td>NaN</td>\n",
       "      <td>NaN</td>\n",
       "      <td>NaN</td>\n",
       "      <td>NaN</td>\n",
       "      <td>81.0</td>\n",
       "      <td>NaN</td>\n",
       "      <td>NaN</td>\n",
       "      <td>NaN</td>\n",
       "      <td>...</td>\n",
       "      <td>NaN</td>\n",
       "      <td>NaN</td>\n",
       "      <td>81.0</td>\n",
       "      <td>NaN</td>\n",
       "      <td>NaN</td>\n",
       "      <td>NaN</td>\n",
       "      <td>NaN</td>\n",
       "      <td>NaN</td>\n",
       "      <td>NaN</td>\n",
       "      <td>NaN</td>\n",
       "    </tr>\n",
       "    <tr>\n",
       "      <th>NV</th>\n",
       "      <td>NaN</td>\n",
       "      <td>NaN</td>\n",
       "      <td>NaN</td>\n",
       "      <td>NaN</td>\n",
       "      <td>NaN</td>\n",
       "      <td>NaN</td>\n",
       "      <td>NaN</td>\n",
       "      <td>81.0</td>\n",
       "      <td>NaN</td>\n",
       "      <td>NaN</td>\n",
       "      <td>...</td>\n",
       "      <td>NaN</td>\n",
       "      <td>NaN</td>\n",
       "      <td>NaN</td>\n",
       "      <td>81.0</td>\n",
       "      <td>NaN</td>\n",
       "      <td>NaN</td>\n",
       "      <td>NaN</td>\n",
       "      <td>NaN</td>\n",
       "      <td>81.0</td>\n",
       "      <td>NaN</td>\n",
       "    </tr>\n",
       "    <tr>\n",
       "      <th>OR</th>\n",
       "      <td>NaN</td>\n",
       "      <td>NaN</td>\n",
       "      <td>NaN</td>\n",
       "      <td>NaN</td>\n",
       "      <td>NaN</td>\n",
       "      <td>NaN</td>\n",
       "      <td>NaN</td>\n",
       "      <td>NaN</td>\n",
       "      <td>81.0</td>\n",
       "      <td>NaN</td>\n",
       "      <td>...</td>\n",
       "      <td>NaN</td>\n",
       "      <td>NaN</td>\n",
       "      <td>NaN</td>\n",
       "      <td>NaN</td>\n",
       "      <td>81.0</td>\n",
       "      <td>NaN</td>\n",
       "      <td>NaN</td>\n",
       "      <td>NaN</td>\n",
       "      <td>NaN</td>\n",
       "      <td>NaN</td>\n",
       "    </tr>\n",
       "    <tr>\n",
       "      <th>WA</th>\n",
       "      <td>NaN</td>\n",
       "      <td>NaN</td>\n",
       "      <td>NaN</td>\n",
       "      <td>NaN</td>\n",
       "      <td>NaN</td>\n",
       "      <td>NaN</td>\n",
       "      <td>NaN</td>\n",
       "      <td>NaN</td>\n",
       "      <td>81.0</td>\n",
       "      <td>NaN</td>\n",
       "      <td>...</td>\n",
       "      <td>NaN</td>\n",
       "      <td>NaN</td>\n",
       "      <td>NaN</td>\n",
       "      <td>NaN</td>\n",
       "      <td>81.0</td>\n",
       "      <td>NaN</td>\n",
       "      <td>NaN</td>\n",
       "      <td>NaN</td>\n",
       "      <td>NaN</td>\n",
       "      <td>NaN</td>\n",
       "    </tr>\n",
       "  </tbody>\n",
       "</table>\n",
       "<p>12 rows × 490 columns</p>\n",
       "</div>"
      ],
      "text/plain": [
       "                                Unnamed: 0                              \\\n",
       "SBADistrictOffice ARIZONA DISTRICT OFFICE  CEDAR RAPIDS BRANCH OFFICE    \n",
       "ProjectState                                                             \n",
       "AL                                     NaN                         NaN   \n",
       "AR                                     NaN                         NaN   \n",
       "AZ                                    81.0                         NaN   \n",
       "CA                                     NaN                         NaN   \n",
       "FL                                     NaN                         NaN   \n",
       "IA                                     NaN                        81.0   \n",
       "IL                                     NaN                         NaN   \n",
       "LA                                     NaN                         NaN   \n",
       "MI                                     NaN                         NaN   \n",
       "NV                                     NaN                         NaN   \n",
       "OR                                     NaN                         NaN   \n",
       "WA                                     NaN                         NaN   \n",
       "\n",
       "                                                                       \\\n",
       "SBADistrictOffice DES MOINES DISTRICT OFFICE  FRESNO DISTRICT OFFICE    \n",
       "ProjectState                                                            \n",
       "AL                                        NaN                     NaN   \n",
       "AR                                        NaN                     NaN   \n",
       "AZ                                        NaN                     NaN   \n",
       "CA                                        NaN                    81.0   \n",
       "FL                                        NaN                     NaN   \n",
       "IA                                       81.0                     NaN   \n",
       "IL                                        NaN                     NaN   \n",
       "LA                                        NaN                     NaN   \n",
       "MI                                        NaN                     NaN   \n",
       "NV                                        NaN                     NaN   \n",
       "OR                                        NaN                     NaN   \n",
       "WA                                        NaN                     NaN   \n",
       "\n",
       "                                                                           \\\n",
       "SBADistrictOffice LOS ANGELES DISTRICT OFFICE  LOUISIANA DISTRICT OFFICE    \n",
       "ProjectState                                                                \n",
       "AL                                         NaN                        NaN   \n",
       "AR                                         NaN                        NaN   \n",
       "AZ                                         NaN                        NaN   \n",
       "CA                                        81.0                        NaN   \n",
       "FL                                         NaN                        NaN   \n",
       "IA                                         NaN                        NaN   \n",
       "IL                                         NaN                        NaN   \n",
       "LA                                         NaN                       81.0   \n",
       "MI                                         NaN                        NaN   \n",
       "NV                                         NaN                        NaN   \n",
       "OR                                         NaN                        NaN   \n",
       "WA                                         NaN                        NaN   \n",
       "\n",
       "                                                                     \\\n",
       "SBADistrictOffice MICHIGAN DISTRICT OFFICE  NEVADA DISTRICT OFFICE    \n",
       "ProjectState                                                          \n",
       "AL                                      NaN                     NaN   \n",
       "AR                                      NaN                     NaN   \n",
       "AZ                                      NaN                     NaN   \n",
       "CA                                      NaN                     NaN   \n",
       "FL                                      NaN                     NaN   \n",
       "IA                                      NaN                     NaN   \n",
       "IL                                      NaN                     NaN   \n",
       "LA                                      NaN                     NaN   \n",
       "MI                                     81.0                     NaN   \n",
       "NV                                      NaN                    81.0   \n",
       "OR                                      NaN                     NaN   \n",
       "WA                                      NaN                     NaN   \n",
       "\n",
       "                                                                         \\\n",
       "SBADistrictOffice PORTLAND DISTRICT OFFICE  SACRAMENTO DISTRICT OFFICE    \n",
       "ProjectState                                                              \n",
       "AL                                      NaN                         NaN   \n",
       "AR                                      NaN                         NaN   \n",
       "AZ                                      NaN                         NaN   \n",
       "CA                                      NaN                        81.0   \n",
       "FL                                      NaN                         NaN   \n",
       "IA                                      NaN                         NaN   \n",
       "IL                                      NaN                         NaN   \n",
       "LA                                      NaN                         NaN   \n",
       "MI                                      NaN                         NaN   \n",
       "NV                                      NaN                         NaN   \n",
       "OR                                     81.0                         NaN   \n",
       "WA                                     81.0                         NaN   \n",
       "\n",
       "                             ...                            JobsSupported  \\\n",
       "SBADistrictOffice            ...             LOS ANGELES DISTRICT OFFICE    \n",
       "ProjectState                 ...                                            \n",
       "AL                           ...                                      NaN   \n",
       "AR                           ...                                      NaN   \n",
       "AZ                           ...                                      NaN   \n",
       "CA                           ...                                     81.0   \n",
       "FL                           ...                                      NaN   \n",
       "IA                           ...                                      NaN   \n",
       "IL                           ...                                      NaN   \n",
       "LA                           ...                                      NaN   \n",
       "MI                           ...                                      NaN   \n",
       "NV                           ...                                      NaN   \n",
       "OR                           ...                                      NaN   \n",
       "WA                           ...                                      NaN   \n",
       "\n",
       "                                                                        \\\n",
       "SBADistrictOffice LOUISIANA DISTRICT OFFICE  MICHIGAN DISTRICT OFFICE    \n",
       "ProjectState                                                             \n",
       "AL                                       NaN                       NaN   \n",
       "AR                                       NaN                       NaN   \n",
       "AZ                                       NaN                       NaN   \n",
       "CA                                       NaN                       NaN   \n",
       "FL                                       NaN                       NaN   \n",
       "IA                                       NaN                       NaN   \n",
       "IL                                       NaN                       NaN   \n",
       "LA                                      81.0                       NaN   \n",
       "MI                                       NaN                      81.0   \n",
       "NV                                       NaN                       NaN   \n",
       "OR                                       NaN                       NaN   \n",
       "WA                                       NaN                       NaN   \n",
       "\n",
       "                                                                     \\\n",
       "SBADistrictOffice NEVADA DISTRICT OFFICE  PORTLAND DISTRICT OFFICE    \n",
       "ProjectState                                                          \n",
       "AL                                    NaN                       NaN   \n",
       "AR                                    NaN                       NaN   \n",
       "AZ                                    NaN                       NaN   \n",
       "CA                                    NaN                       NaN   \n",
       "FL                                    NaN                       NaN   \n",
       "IA                                    NaN                       NaN   \n",
       "IL                                    NaN                       NaN   \n",
       "LA                                    NaN                       NaN   \n",
       "MI                                    NaN                       NaN   \n",
       "NV                                   81.0                       NaN   \n",
       "OR                                    NaN                      81.0   \n",
       "WA                                    NaN                      81.0   \n",
       "\n",
       "                                                                          \\\n",
       "SBADistrictOffice SACRAMENTO DISTRICT OFFICE  SAN DIEGO DISTRICT OFFICE    \n",
       "ProjectState                                                               \n",
       "AL                                        NaN                        NaN   \n",
       "AR                                        NaN                       81.0   \n",
       "AZ                                        NaN                        NaN   \n",
       "CA                                       81.0                       81.0   \n",
       "FL                                        NaN                        NaN   \n",
       "IA                                        NaN                        NaN   \n",
       "IL                                        NaN                        NaN   \n",
       "LA                                        NaN                        NaN   \n",
       "MI                                        NaN                        NaN   \n",
       "NV                                        NaN                        NaN   \n",
       "OR                                        NaN                        NaN   \n",
       "WA                                        NaN                        NaN   \n",
       "\n",
       "                                                                             \\\n",
       "SBADistrictOffice SAN FRANCISCO DISTRICT OFFICE  SANTA ANA DISTRICT OFFICE    \n",
       "ProjectState                                                                  \n",
       "AL                                          81.0                        NaN   \n",
       "AR                                          81.0                       81.0   \n",
       "AZ                                           NaN                        NaN   \n",
       "CA                                          81.0                       81.0   \n",
       "FL                                          81.0                        NaN   \n",
       "IA                                           NaN                        NaN   \n",
       "IL                                           NaN                        NaN   \n",
       "LA                                           NaN                        NaN   \n",
       "MI                                           NaN                        NaN   \n",
       "NV                                           NaN                       81.0   \n",
       "OR                                           NaN                        NaN   \n",
       "WA                                           NaN                        NaN   \n",
       "\n",
       "                                              \n",
       "SBADistrictOffice SPRINGFIELD BRANCH OFFICE   \n",
       "ProjectState                                  \n",
       "AL                                       NaN  \n",
       "AR                                       NaN  \n",
       "AZ                                       NaN  \n",
       "CA                                       NaN  \n",
       "FL                                       NaN  \n",
       "IA                                       NaN  \n",
       "IL                                      81.0  \n",
       "LA                                       NaN  \n",
       "MI                                       NaN  \n",
       "NV                                       NaN  \n",
       "OR                                       NaN  \n",
       "WA                                       NaN  \n",
       "\n",
       "[12 rows x 490 columns]"
      ]
     },
     "execution_count": 147,
     "metadata": {},
     "output_type": "execute_result"
    }
   ],
   "source": [
    "# First pass on pivot. aggfunc needs work\n",
    "# pd.__version__     # 0.19.2\n",
    "\n",
    "SBA_504[SBA_504.BorrState=='CA'].pivot_table(index='ProjectState',columns='SBADistrictOffice',\n",
    "    aggfunc=lambda x: SBA_504.SBADistrictOffice.value_counts().count())\n",
    "                            # .Program.value_counts().count())\n",
    "                                    #.count()) \n",
    "                                    #.value_counts().count())\n",
    "\n",
    "# SBA_504.pivot_table(index='BorrState',columns='SBADistrictOffice',\n",
    "#    aggfunc=lambda x: SBA_504.Program.value_counts().count())"
   ]
  },
  {
   "cell_type": "code",
   "execution_count": 148,
   "metadata": {
    "collapsed": false
   },
   "outputs": [],
   "source": [
    "# pivot notes\n",
    "\n",
    "#SBA_504[(SBA_504.BorrState == 'CA') & (SBA_504.ProjectState != 'CA')].pivot_table(index='ProjectState',columns='SBADistrictOffice',\n",
    "#    aggfunc=lambda x: SBA_504.Program.value_counts().count())\n",
    "                    # SBA_504.Program.value_counts().count())\n",
    "                    # SBA_504[(SBA_504.BorrState == 'CA') & (SBA_504.ProjectState != 'CA')].Program.value_counts().count())\n",
    "                    # SBA_504.ThirdPartyDollars.value_counts().sum())\n",
    "                    # ...11 rows × 385 columns...\n",
    "                    # ...56 above... \n",
    "                    # \n",
    "                    "
   ]
  },
  {
   "cell_type": "code",
   "execution_count": 101,
   "metadata": {
    "collapsed": false
   },
   "outputs": [
    {
     "data": {
      "text/plain": [
       "4010"
      ]
     },
     "execution_count": 101,
     "metadata": {},
     "output_type": "execute_result"
    }
   ],
   "source": [
    "# Appears to be less of a trend that CDC is in the same state as the project\n",
    "\n",
    "SBA_504[(SBA_504.ProjectState=='CA') & (SBA_504.CDC_State!='CA')].Program.count()"
   ]
  },
  {
   "cell_type": "code",
   "execution_count": 103,
   "metadata": {
    "collapsed": false
   },
   "outputs": [
    {
     "data": {
      "text/plain": [
       "SBADistrictOffice\n",
       "SACRAMENTO DISTRICT OFFICE        1915\n",
       "LOS ANGELES DISTRICT OFFICE        764\n",
       "SANTA ANA DISTRICT OFFICE          649\n",
       "SAN DIEGO DISTRICT OFFICE          280\n",
       "SAN FRANCISCO DISTRICT OFFICE      271\n",
       "FRESNO DISTRICT OFFICE             130\n",
       "CONNECTICUT DISTRICT OFFICE          1\n",
       "Name: Program, dtype: int64"
      ]
     },
     "execution_count": 103,
     "metadata": {},
     "output_type": "execute_result"
    }
   ],
   "source": [
    "# SBA offices where project is in CA but CDC is not \n",
    "\n",
    "SBA_504[(SBA_504.ProjectState=='CA') & (SBA_504.CDC_State!='CA')].groupby(by='SBADistrictOffice').Program.count().sort_values(ascending=False)"
   ]
  },
  {
   "cell_type": "code",
   "execution_count": 91,
   "metadata": {
    "collapsed": false,
    "deletable": true,
    "editable": true
   },
   "outputs": [
    {
     "data": {
      "text/plain": [
       "ThirdPartyLender_Name\n",
       "JPMORGAN CHASE BANK, NATIONAL ASSOCIATION    2731\n",
       "BANK OF AMERICA, NATIONAL ASSOCIATION        2131\n",
       "ZIONS BANK, A DIVISION OF                    1910\n",
       "WELLS FARGO BANK, NATIONAL ASSOCIATION       1759\n",
       "BANK OF THE WEST                             1015\n",
       "REGIONS BANK                                  647\n",
       "THE HUNTINGTON NATIONAL BANK                  539\n",
       "BRANCH BANKING AND TRUST COMPANY              536\n",
       "SUNTRUST BANK                                 535\n",
       "PNC BANK, NATIONAL ASSOCIATION                534\n",
       "Name: Program, dtype: int64"
      ]
     },
     "execution_count": 91,
     "metadata": {},
     "output_type": "execute_result"
    }
   ],
   "source": [
    "# Top lenders for all projects\n",
    "\n",
    "SBA_504.groupby(by='ThirdPartyLender_Name').Program.count().sort_values(ascending = False).head(10)"
   ]
  },
  {
   "cell_type": "code",
   "execution_count": 92,
   "metadata": {
    "collapsed": false
   },
   "outputs": [
    {
     "data": {
      "text/plain": [
       "ThirdPartyLender_Name\n",
       "BANK OF AMERICA, NATIONAL ASSOCIATION        1034\n",
       "WELLS FARGO BANK, NATIONAL ASSOCIATION        924\n",
       "JPMORGAN CHASE BANK, NATIONAL ASSOCIATION     909\n",
       "ZIONS BANK, A DIVISION OF                     805\n",
       "BANK OF THE WEST                              764\n",
       "MUFG UNION BANK, NATIONAL ASSOCIATION         422\n",
       "CITY NATIONAL BANK                            291\n",
       "CIT BANK, NATIONAL ASSOCIATION                247\n",
       "PLAZA BANK                                    239\n",
       "WESTERN ALLIANCE BANK                         224\n",
       "Name: Program, dtype: int64"
      ]
     },
     "execution_count": 92,
     "metadata": {},
     "output_type": "execute_result"
    }
   ],
   "source": [
    "# Top lenders for CA projects\n",
    "\n",
    "SBA_504[SBA_504.ProjectState=='CA'].groupby(by='ThirdPartyLender_Name').Program.count().sort_values(ascending = False).head(10)"
   ]
  },
  {
   "cell_type": "code",
   "execution_count": 12,
   "metadata": {
    "collapsed": false,
    "deletable": true,
    "editable": true
   },
   "outputs": [
    {
     "data": {
      "text/plain": [
       "CDC_Name\n",
       "CDC Small Business Finance Corporation                    9461\n",
       "Florida Business Development Corporation                  6179\n",
       "Empire State Certified Development Corporation            6015\n",
       "Mortgage Capital Development Corporation                  4530\n",
       "Mountain West Small Business Finance                      4529\n",
       "Granite State Economic Development Corporation            4182\n",
       "SBA - EDF Enforcement Action                              3753\n",
       "Florida First Capital Finance Corporation, Inc.           3527\n",
       "Small Business Growth Corporation                         3425\n",
       "Wisconsin Business Development Finance Corporation        3296\n",
       "Colorado Lending Source, Ltd.                             2886\n",
       "Business Finance Group, Inc.                              2859\n",
       "Evergreen Business Capital                                2852\n",
       "California Statewide Certified Development Corporation    2477\n",
       "SomerCor 504, Inc.                                        2441\n",
       "Twin Cities-Metro Certified Development Company           2322\n",
       "Bay Area Employment Development Company                   2270\n",
       "Capital Certified Development Corporation                 1985\n",
       "Southland Economic  Development Corporation               1940\n",
       "Minnesota Business Finance Corporation                    1928\n",
       "Name: Program, dtype: int64"
      ]
     },
     "execution_count": 12,
     "metadata": {},
     "output_type": "execute_result"
    }
   ],
   "source": [
    "# Top CDCs for all projects\n",
    "\n",
    "SBA_504.groupby(by='CDC_Name').Program.count().sort_values(ascending = False).head(10)"
   ]
  },
  {
   "cell_type": "code",
   "execution_count": 98,
   "metadata": {
    "collapsed": false
   },
   "outputs": [
    {
     "data": {
      "text/plain": [
       "CDC_Name\n",
       "CDC Small Business Finance Corporation                    8934\n",
       "Mortgage Capital Development Corporation                  4288\n",
       "SBA - EDF Enforcement Action                              3682\n",
       "California Statewide Certified Development Corporation    2470\n",
       "Bay Area Employment Development Company                   2263\n",
       "Southland Economic  Development Corporation               1934\n",
       "Capital Access Group, Inc.                                1556\n",
       "Greater Sacramento Certified Development Corporation      1119\n",
       "Business Finance Capital                                   799\n",
       "Mid State Development Corporation                          711\n",
       "Name: Program, dtype: int64"
      ]
     },
     "execution_count": 98,
     "metadata": {},
     "output_type": "execute_result"
    }
   ],
   "source": [
    "# Top CDCs for CA-based projects\n",
    "\n",
    "SBA_504[SBA_504.ProjectState=='CA'].groupby(by='CDC_Name').Program.count().sort_values(ascending = False).head(10)"
   ]
  },
  {
   "cell_type": "code",
   "execution_count": null,
   "metadata": {
    "collapsed": true,
    "deletable": true,
    "editable": true
   },
   "outputs": [],
   "source": []
  },
  {
   "cell_type": "code",
   "execution_count": null,
   "metadata": {
    "collapsed": false,
    "deletable": true,
    "editable": true
   },
   "outputs": [],
   "source": []
  },
  {
   "cell_type": "code",
   "execution_count": null,
   "metadata": {
    "collapsed": true,
    "deletable": true,
    "editable": true
   },
   "outputs": [],
   "source": []
  },
  {
   "cell_type": "markdown",
   "metadata": {
    "deletable": true,
    "editable": true
   },
   "source": [
    "### 7(a) loans"
   ]
  },
  {
   "cell_type": "code",
   "execution_count": null,
   "metadata": {
    "collapsed": false,
    "deletable": true,
    "editable": true
   },
   "outputs": [],
   "source": [
    "# first pass only. then use csv \n",
    "\n",
    "# xls_7a = pd.read_excel('FOIA - 7(a) (FY2010-Present).xlsx')    \n",
    "# xls_7a.to_csv('SBA_7a.csv')                                    "
   ]
  },
  {
   "cell_type": "code",
   "execution_count": 34,
   "metadata": {
    "collapsed": false,
    "deletable": true,
    "editable": true
   },
   "outputs": [],
   "source": [
    "SBA_7a = pd.read_csv('SBA_7a.csv', low_memory=False)     # DtypeWarning: Columns (11,31) have mixed types "
   ]
  },
  {
   "cell_type": "code",
   "execution_count": 35,
   "metadata": {
    "collapsed": false,
    "deletable": true,
    "editable": true
   },
   "outputs": [
    {
     "data": {
      "text/plain": [
       "Index(['Unnamed: 0', 'Program', 'BorrName', 'BorrStreet', 'BorrCity',\n",
       "       'BorrState', 'BorrZip', 'BankName', 'BankStreet', 'BankCity',\n",
       "       'BankState', 'BankZip', 'GrossApproval', 'SBAGuaranteedApproval',\n",
       "       'ApprovalDate', 'ApprovalFiscalYear', 'FirstDisbursementDate',\n",
       "       'DeliveryMethod', 'subpgmdesc', 'InitialInterestRate', 'TermInMonths',\n",
       "       'NaicsCode', 'NaicsDescription', 'FranchiseCode', 'FranchiseName',\n",
       "       'ProjectCounty', 'ProjectState', 'SBADistrictOffice',\n",
       "       'CongressionalDistrict', 'BusinessType', 'LoanStatus', 'ChargeOffDate',\n",
       "       'GrossChargeOffAmount', 'RevolverStatus', 'JobsSupported'],\n",
       "      dtype='object')"
      ]
     },
     "execution_count": 35,
     "metadata": {},
     "output_type": "execute_result"
    }
   ],
   "source": [
    "SBA_7a.columns"
   ]
  },
  {
   "cell_type": "code",
   "execution_count": null,
   "metadata": {
    "collapsed": true,
    "deletable": true,
    "editable": true
   },
   "outputs": [],
   "source": []
  },
  {
   "cell_type": "markdown",
   "metadata": {
    "deletable": true,
    "editable": true
   },
   "source": [
    "### City profiles "
   ]
  },
  {
   "cell_type": "code",
   "execution_count": 32,
   "metadata": {
    "collapsed": true,
    "deletable": true,
    "editable": true
   },
   "outputs": [],
   "source": [
    "# first pass only. then load data from csv \n",
    "\n",
    "# xls_ci = pd.read_excel('0912 - City Profiles.xlsx')    \n",
    "# xls_ci.to_csv('SBA_city.csv')                          "
   ]
  },
  {
   "cell_type": "code",
   "execution_count": 78,
   "metadata": {
    "collapsed": true,
    "deletable": true,
    "editable": true
   },
   "outputs": [],
   "source": [
    "SBA_ci = pd.read_csv('SBA_city.csv')"
   ]
  },
  {
   "cell_type": "code",
   "execution_count": 79,
   "metadata": {
    "collapsed": false,
    "deletable": true,
    "editable": true
   },
   "outputs": [
    {
     "data": {
      "text/plain": [
       "Index(['Unnamed: 0', 'Name', 'Sq Mi', 'Zip Codes', 'GeoID', 'County', 'Pop',\n",
       "       'Pop Density', '# of businesses (referenceUSA)',\n",
       "       '# of businesses (mergent)',\n",
       "       '# of businesses (census community survey)', '# of businesses Average',\n",
       "       '# of businesses per sq. mile (referenceUSA)',\n",
       "       '# of businesses per sq. mile (mergent)',\n",
       "       '# of businesses per sq. mile (Census)',\n",
       "       '# of businesses per sq. mile (average)', 'City-Lat', 'City-Lon'],\n",
       "      dtype='object')"
      ]
     },
     "execution_count": 79,
     "metadata": {},
     "output_type": "execute_result"
    }
   ],
   "source": [
    "SBA_ci.columns"
   ]
  },
  {
   "cell_type": "code",
   "execution_count": 80,
   "metadata": {
    "collapsed": false,
    "deletable": true,
    "editable": true
   },
   "outputs": [
    {
     "data": {
      "text/plain": [
       "117"
      ]
     },
     "execution_count": 80,
     "metadata": {},
     "output_type": "execute_result"
    }
   ],
   "source": [
    "len(SBA_ci.Name)"
   ]
  }
 ],
 "metadata": {
  "kernelspec": {
   "display_name": "Python 3",
   "language": "python",
   "name": "python3"
  },
  "language_info": {
   "codemirror_mode": {
    "name": "ipython",
    "version": 3
   },
   "file_extension": ".py",
   "mimetype": "text/x-python",
   "name": "python",
   "nbconvert_exporter": "python",
   "pygments_lexer": "ipython3",
   "version": "3.5.2"
  }
 },
 "nbformat": 4,
 "nbformat_minor": 2
}
