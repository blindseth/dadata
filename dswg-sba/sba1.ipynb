{
 "cells": [
  {
   "cell_type": "markdown",
   "metadata": {
    "collapsed": true,
    "deletable": true,
    "editable": true
   },
   "source": [
    "## SBA - 504 & 7a "
   ]
  },
  {
   "cell_type": "markdown",
   "metadata": {},
   "source": [
    "### 504 loans (through Certified Development Company) "
   ]
  },
  {
   "cell_type": "code",
   "execution_count": null,
   "metadata": {
    "collapsed": true
   },
   "outputs": [],
   "source": [
    "import pandas as pd\n",
    "import xlrd"
   ]
  },
  {
   "cell_type": "code",
   "execution_count": 4,
   "metadata": {
    "collapsed": false,
    "deletable": true,
    "editable": true
   },
   "outputs": [],
   "source": [
    "# first pass only. then use data \n",
    "\n",
    "# xls_504 = pd.read_excel('SBAcopy.xlsx')                 \n",
    "# xls_504.to_csv('SBA_504.csv')"
   ]
  },
  {
   "cell_type": "code",
   "execution_count": 42,
   "metadata": {
    "collapsed": true
   },
   "outputs": [],
   "source": [
    "SBA_504 = pd.read_csv('SBA_504.csv', low_memory=False)    # DtypeWarning: Columns (12,13,14,20) have mixed types. \n",
    "                                                          # Specify dtype option on import or set low_memory=False"
   ]
  },
  {
   "cell_type": "code",
   "execution_count": 43,
   "metadata": {
    "collapsed": false,
    "deletable": true,
    "editable": true
   },
   "outputs": [
    {
     "data": {
      "text/plain": [
       "Index(['Unnamed: 0', 'Program', 'BorrName', 'BorrStreet', 'BorrCity',\n",
       "       'BorrState', 'BorrZip', 'CDC_Name', 'CDC_Street', 'CDC_City',\n",
       "       'CDC_State', 'CDC_Zip', 'ThirdPartyLender_Name',\n",
       "       'ThirdPartyLender_City', 'ThirdPartyLender_State', 'ThirdPartyDollars',\n",
       "       'GrossApproval', 'ApprovalDate', 'ApprovalFiscalYear',\n",
       "       'FirstDisbursementDate', 'DeliveryMethod', 'subpgmdesc',\n",
       "       'InitialInterestRate', 'TermInMonths', 'NaicsCode', 'NaicsDescription',\n",
       "       'FranchiseCode', 'FranchiseName', 'ProjectCounty', 'ProjectState',\n",
       "       'SBADistrictOffice', 'CongressionalDistrict', 'BusinessType',\n",
       "       'LoanStatus', 'ChargeOffDate', 'GrossChargeOffAmount', 'JobsSupported'],\n",
       "      dtype='object')"
      ]
     },
     "execution_count": 43,
     "metadata": {},
     "output_type": "execute_result"
    }
   ],
   "source": [
    "SBA_504.columns"
   ]
  },
  {
   "cell_type": "code",
   "execution_count": 44,
   "metadata": {
    "collapsed": false,
    "deletable": true,
    "editable": true
   },
   "outputs": [],
   "source": [
    "# dir(xls_504)\n",
    "# xls_504.describe()"
   ]
  },
  {
   "cell_type": "code",
   "execution_count": 45,
   "metadata": {
    "collapsed": false,
    "deletable": true,
    "editable": true
   },
   "outputs": [
    {
     "data": {
      "text/plain": [
       "Program\n",
       "504    163452\n",
       "Name: Program, dtype: int64"
      ]
     },
     "execution_count": 45,
     "metadata": {},
     "output_type": "execute_result"
    }
   ],
   "source": [
    "SBA_504.groupby(by='Program').Program.count()"
   ]
  },
  {
   "cell_type": "code",
   "execution_count": 46,
   "metadata": {
    "collapsed": false
   },
   "outputs": [
    {
     "data": {
      "text/plain": [
       "ProjectState\n",
       "CA    32255\n",
       "FL    10618\n",
       "TX     7790\n",
       "IL     6658\n",
       "MN     6565\n",
       "NY     6412\n",
       "OH     5866\n",
       "UT     5508\n",
       "CO     5082\n",
       "GA     4419\n",
       "Name: Program, dtype: int64"
      ]
     },
     "execution_count": 46,
     "metadata": {},
     "output_type": "execute_result"
    }
   ],
   "source": [
    "SBA_504.groupby(by='ProjectState').Program.count().sort_values(ascending = False).head(10)\n"
   ]
  },
  {
   "cell_type": "code",
   "execution_count": 47,
   "metadata": {
    "collapsed": false
   },
   "outputs": [
    {
     "data": {
      "text/plain": [
       "BorrState\n",
       "CA    32304\n",
       "FL    10611\n",
       "TX     7793\n",
       "IL     6660\n",
       "MN     6564\n",
       "NY     6425\n",
       "OH     5866\n",
       "UT     5521\n",
       "CO     5085\n",
       "GA     4422\n",
       "Name: Program, dtype: int64"
      ]
     },
     "execution_count": 47,
     "metadata": {},
     "output_type": "execute_result"
    }
   ],
   "source": [
    "SBA_504.groupby(by='BorrState').Program.count().sort_values(ascending = False).head(10)"
   ]
  },
  {
   "cell_type": "code",
   "execution_count": 52,
   "metadata": {
    "collapsed": false
   },
   "outputs": [
    {
     "data": {
      "text/plain": [
       "32248"
      ]
     },
     "execution_count": 52,
     "metadata": {},
     "output_type": "execute_result"
    }
   ],
   "source": [
    "SBA_504[(SBA_504.BorrState=='CA') & (SBA_504.ProjectState=='CA')].ProjectState.count()   "
   ]
  },
  {
   "cell_type": "code",
   "execution_count": 71,
   "metadata": {
    "collapsed": false
   },
   "outputs": [
    {
     "data": {
      "text/plain": [
       "7"
      ]
     },
     "execution_count": 71,
     "metadata": {},
     "output_type": "execute_result"
    }
   ],
   "source": [
    "SBA_504[(SBA_504.BorrState != 'CA') & (SBA_504.ProjectState == 'CA')].BorrState.count()"
   ]
  },
  {
   "cell_type": "code",
   "execution_count": 66,
   "metadata": {
    "collapsed": false
   },
   "outputs": [
    {
     "data": {
      "text/plain": [
       "6029      KS\n",
       "14675     CT\n",
       "23662     NV\n",
       "45757     NV\n",
       "55883     LA\n",
       "57340     VA\n",
       "155128    AZ\n",
       "Name: BorrState, dtype: object"
      ]
     },
     "execution_count": 66,
     "metadata": {},
     "output_type": "execute_result"
    }
   ],
   "source": [
    "SBA_504[(SBA_504.BorrState != 'CA') & (SBA_504.ProjectState == 'CA')].BorrState\n",
    "    # .count().sort_values(ascending=False)"
   ]
  },
  {
   "cell_type": "code",
   "execution_count": 70,
   "metadata": {
    "collapsed": false
   },
   "outputs": [
    {
     "data": {
      "text/plain": [
       "BorrState\n",
       "NV    2\n",
       "VA    1\n",
       "LA    1\n",
       "KS    1\n",
       "CT    1\n",
       "AZ    1\n",
       "Name: BorrState, dtype: int64"
      ]
     },
     "execution_count": 70,
     "metadata": {},
     "output_type": "execute_result"
    }
   ],
   "source": [
    "SBA_504[(SBA_504.BorrState != 'CA') & (SBA_504.ProjectState == 'CA')].groupby(by='BorrState').BorrState.count().sort_values(ascending=False)"
   ]
  },
  {
   "cell_type": "code",
   "execution_count": 72,
   "metadata": {
    "collapsed": false
   },
   "outputs": [
    {
     "data": {
      "text/plain": [
       "56"
      ]
     },
     "execution_count": 72,
     "metadata": {},
     "output_type": "execute_result"
    }
   ],
   "source": [
    "SBA_504[(SBA_504.BorrState == 'CA') & (SBA_504.ProjectState != 'CA')].ProjectState.count()"
   ]
  },
  {
   "cell_type": "code",
   "execution_count": 73,
   "metadata": {
    "collapsed": false
   },
   "outputs": [
    {
     "data": {
      "text/plain": [
       "ProjectState\n",
       "AR    20\n",
       "NV     9\n",
       "AL     8\n",
       "OR     6\n",
       "FL     4\n",
       "WA     2\n",
       "IA     2\n",
       "AZ     2\n",
       "MI     1\n",
       "LA     1\n",
       "IL     1\n",
       "Name: ProjectState, dtype: int64"
      ]
     },
     "execution_count": 73,
     "metadata": {},
     "output_type": "execute_result"
    }
   ],
   "source": [
    "SBA_504[(SBA_504.BorrState == 'CA') & (SBA_504.ProjectState != 'CA')].groupby(by='ProjectState').ProjectState.count().sort_values(ascending=False)\n",
    "\n",
    "# Arkansas (..& Alabama & FLorida) ?!"
   ]
  },
  {
   "cell_type": "code",
   "execution_count": 75,
   "metadata": {
    "collapsed": false
   },
   "outputs": [
    {
     "data": {
      "text/plain": [
       "SBADistrictOffice\n",
       "SAN DIEGO DISTRICT OFFICE         11\n",
       "SAN FRANCISCO DISTRICT OFFICE      5\n",
       "SANTA ANA DISTRICT OFFICE          4\n",
       "Name: ProjectState, dtype: int64"
      ]
     },
     "execution_count": 75,
     "metadata": {},
     "output_type": "execute_result"
    }
   ],
   "source": [
    "SBA_504[(SBA_504.BorrState == 'CA') & (SBA_504.ProjectState == 'AR')].groupby(by='SBADistrictOffice').ProjectState.count().sort_values(ascending=False)\n",
    "\n",
    "# SBA district offices for CA projects finding borrowers in Arkansas, etc.. "
   ]
  },
  {
   "cell_type": "code",
   "execution_count": 60,
   "metadata": {
    "collapsed": false
   },
   "outputs": [
    {
     "ename": "SyntaxError",
     "evalue": "invalid syntax (<ipython-input-60-60d792f4624f>, line 1)",
     "output_type": "error",
     "traceback": [
      "\u001b[0;36m  File \u001b[0;32m\"<ipython-input-60-60d792f4624f>\"\u001b[0;36m, line \u001b[0;32m1\u001b[0m\n\u001b[0;31m    SBA_504[((SBA_504.BorrState == 'CA') && (SBA_504.ProjectState != 'CA'))\u001b[0m\n\u001b[0m                                          ^\u001b[0m\n\u001b[0;31mSyntaxError\u001b[0m\u001b[0;31m:\u001b[0m invalid syntax\n"
     ]
    }
   ],
   "source": [
    "# Not sure why this doesn't work..\n",
    "\n",
    "SBA_504[((SBA_504.BorrState == 'CA') & (SBA_504.ProjectState != 'CA'))\n",
    "    or ((SBA_504.BorrState !='CA') & (SBA_504.ProjectState == 'CA'))\n",
    "    ].BorrState.count()"
   ]
  },
  {
   "cell_type": "code",
   "execution_count": 10,
   "metadata": {
    "collapsed": false,
    "deletable": true,
    "editable": true
   },
   "outputs": [
    {
     "data": {
      "text/plain": [
       "ThirdPartyLender_Name\n",
       "JPMORGAN CHASE BANK, NATIONAL ASSOCIATION    2731\n",
       "BANK OF AMERICA, NATIONAL ASSOCIATION        2131\n",
       "ZIONS BANK, A DIVISION OF                    1910\n",
       "WELLS FARGO BANK, NATIONAL ASSOCIATION       1759\n",
       "BANK OF THE WEST                             1015\n",
       "REGIONS BANK                                  647\n",
       "THE HUNTINGTON NATIONAL BANK                  539\n",
       "BRANCH BANKING AND TRUST COMPANY              536\n",
       "SUNTRUST BANK                                 535\n",
       "PNC BANK, NATIONAL ASSOCIATION                534\n",
       "KEYBANK NATIONAL ASSOCIATION                  485\n",
       "FIRST-CITIZENS BANK & TRUST COMPANY           467\n",
       "MUFG UNION BANK, NATIONAL ASSOCIATION         451\n",
       "WESTERN ALLIANCE BANK                         371\n",
       "U.S. BANK NATIONAL ASSOCIATION                351\n",
       "MANUFACTURERS AND TRADERS TRUST COMPANY       346\n",
       "CITY NATIONAL BANK                            329\n",
       "EASTERN BANK                                  316\n",
       "TD BANK, NATIONAL ASSOCIATION                 297\n",
       "BMO HARRIS BANK NATIONAL ASSOCIATION          285\n",
       "Name: Program, dtype: int64"
      ]
     },
     "execution_count": 10,
     "metadata": {},
     "output_type": "execute_result"
    }
   ],
   "source": [
    "SBA_504.groupby(by='ThirdPartyLender_Name').Program.count().sort_values(ascending = False).head(20)"
   ]
  },
  {
   "cell_type": "code",
   "execution_count": 12,
   "metadata": {
    "collapsed": false,
    "deletable": true,
    "editable": true
   },
   "outputs": [
    {
     "data": {
      "text/plain": [
       "CDC_Name\n",
       "CDC Small Business Finance Corporation                    9461\n",
       "Florida Business Development Corporation                  6179\n",
       "Empire State Certified Development Corporation            6015\n",
       "Mortgage Capital Development Corporation                  4530\n",
       "Mountain West Small Business Finance                      4529\n",
       "Granite State Economic Development Corporation            4182\n",
       "SBA - EDF Enforcement Action                              3753\n",
       "Florida First Capital Finance Corporation, Inc.           3527\n",
       "Small Business Growth Corporation                         3425\n",
       "Wisconsin Business Development Finance Corporation        3296\n",
       "Colorado Lending Source, Ltd.                             2886\n",
       "Business Finance Group, Inc.                              2859\n",
       "Evergreen Business Capital                                2852\n",
       "California Statewide Certified Development Corporation    2477\n",
       "SomerCor 504, Inc.                                        2441\n",
       "Twin Cities-Metro Certified Development Company           2322\n",
       "Bay Area Employment Development Company                   2270\n",
       "Capital Certified Development Corporation                 1985\n",
       "Southland Economic  Development Corporation               1940\n",
       "Minnesota Business Finance Corporation                    1928\n",
       "Name: Program, dtype: int64"
      ]
     },
     "execution_count": 12,
     "metadata": {},
     "output_type": "execute_result"
    }
   ],
   "source": [
    "SBA_504.groupby(by='CDC_Name').Program.count().sort_values(ascending = False).head(20)"
   ]
  },
  {
   "cell_type": "code",
   "execution_count": null,
   "metadata": {
    "collapsed": true,
    "deletable": true,
    "editable": true
   },
   "outputs": [],
   "source": [
    "SBA_504_CA = SBA_504[SBA_504.] "
   ]
  },
  {
   "cell_type": "code",
   "execution_count": null,
   "metadata": {
    "collapsed": false,
    "deletable": true,
    "editable": true
   },
   "outputs": [],
   "source": []
  },
  {
   "cell_type": "code",
   "execution_count": null,
   "metadata": {
    "collapsed": true,
    "deletable": true,
    "editable": true
   },
   "outputs": [],
   "source": []
  },
  {
   "cell_type": "code",
   "execution_count": null,
   "metadata": {
    "collapsed": true,
    "deletable": true,
    "editable": true
   },
   "outputs": [],
   "source": []
  },
  {
   "cell_type": "code",
   "execution_count": null,
   "metadata": {
    "collapsed": false,
    "deletable": true,
    "editable": true
   },
   "outputs": [],
   "source": [
    "# first pass only. then use data \n",
    "\n",
    "# xls_7a = pd.read_excel('FOIA - 7(a) (FY2010-Present).xlsx')    \n",
    "# xls_7a.to_csv('SBA_7a.csv')                                    "
   ]
  },
  {
   "cell_type": "code",
   "execution_count": 34,
   "metadata": {
    "collapsed": false,
    "deletable": true,
    "editable": true
   },
   "outputs": [],
   "source": [
    "SBA_7a = pd.read_csv('SBA_7a.csv', low_memory=False)     # DtypeWarning: Columns (11,31) have mixed types \n",
    "                                                         # "
   ]
  },
  {
   "cell_type": "code",
   "execution_count": 35,
   "metadata": {
    "collapsed": false,
    "deletable": true,
    "editable": true
   },
   "outputs": [
    {
     "data": {
      "text/plain": [
       "Index(['Unnamed: 0', 'Program', 'BorrName', 'BorrStreet', 'BorrCity',\n",
       "       'BorrState', 'BorrZip', 'BankName', 'BankStreet', 'BankCity',\n",
       "       'BankState', 'BankZip', 'GrossApproval', 'SBAGuaranteedApproval',\n",
       "       'ApprovalDate', 'ApprovalFiscalYear', 'FirstDisbursementDate',\n",
       "       'DeliveryMethod', 'subpgmdesc', 'InitialInterestRate', 'TermInMonths',\n",
       "       'NaicsCode', 'NaicsDescription', 'FranchiseCode', 'FranchiseName',\n",
       "       'ProjectCounty', 'ProjectState', 'SBADistrictOffice',\n",
       "       'CongressionalDistrict', 'BusinessType', 'LoanStatus', 'ChargeOffDate',\n",
       "       'GrossChargeOffAmount', 'RevolverStatus', 'JobsSupported'],\n",
       "      dtype='object')"
      ]
     },
     "execution_count": 35,
     "metadata": {},
     "output_type": "execute_result"
    }
   ],
   "source": [
    "SBA_7a.columns"
   ]
  },
  {
   "cell_type": "code",
   "execution_count": null,
   "metadata": {
    "collapsed": true
   },
   "outputs": [],
   "source": []
  },
  {
   "cell_type": "markdown",
   "metadata": {},
   "source": [
    "### City profiles "
   ]
  },
  {
   "cell_type": "code",
   "execution_count": 32,
   "metadata": {
    "collapsed": true,
    "deletable": true,
    "editable": true
   },
   "outputs": [],
   "source": [
    "# first pass only. then load data from csv \n",
    "\n",
    "# xls_ci = pd.read_excel('0912 - City Profiles.xlsx')    \n",
    "# xls_ci.to_csv('SBA_city.csv')                          "
   ]
  },
  {
   "cell_type": "code",
   "execution_count": 39,
   "metadata": {
    "collapsed": true
   },
   "outputs": [],
   "source": [
    "SBA_ci = pd.read_csv('SBA_city.csv')"
   ]
  },
  {
   "cell_type": "code",
   "execution_count": 40,
   "metadata": {
    "collapsed": false
   },
   "outputs": [
    {
     "data": {
      "text/plain": [
       "Index(['Unnamed: 0', 'Name', 'Sq Mi', 'Zip Codes', 'GeoID', 'County', 'Pop',\n",
       "       'Pop Density', '# of businesses (referenceUSA)',\n",
       "       '# of businesses (mergent)',\n",
       "       '# of businesses (census community survey)', '# of businesses Average',\n",
       "       '# of businesses per sq. mile (referenceUSA)',\n",
       "       '# of businesses per sq. mile (mergent)',\n",
       "       '# of businesses per sq. mile (Census)',\n",
       "       '# of businesses per sq. mile (average)', 'City-Lat', 'City-Lon'],\n",
       "      dtype='object')"
      ]
     },
     "execution_count": 40,
     "metadata": {},
     "output_type": "execute_result"
    }
   ],
   "source": [
    "SBA_ci.columns"
   ]
  },
  {
   "cell_type": "code",
   "execution_count": 41,
   "metadata": {
    "collapsed": false
   },
   "outputs": [
    {
     "ename": "NameError",
     "evalue": "name 'SBA_ci' is not defined",
     "output_type": "error",
     "traceback": [
      "\u001b[0;31m---------------------------------------------------------------------------\u001b[0m",
      "\u001b[0;31mNameError\u001b[0m                                 Traceback (most recent call last)",
      "\u001b[0;32m<ipython-input-41-e5e43822e85d>\u001b[0m in \u001b[0;36m<module>\u001b[0;34m()\u001b[0m\n\u001b[0;32m----> 1\u001b[0;31m \u001b[0mlen\u001b[0m\u001b[0;34m(\u001b[0m\u001b[0mSBA_ci\u001b[0m\u001b[0;34m.\u001b[0m\u001b[0mName\u001b[0m\u001b[0;34m)\u001b[0m\u001b[0;34m\u001b[0m\u001b[0m\n\u001b[0m",
      "\u001b[0;31mNameError\u001b[0m: name 'SBA_ci' is not defined"
     ]
    }
   ],
   "source": [
    "len(SBA_ci.Name)"
   ]
  },
  {
   "cell_type": "markdown",
   "metadata": {},
   "source": [
    "## Background on 504 & 7(a) programs"
   ]
  },
  {
   "cell_type": "markdown",
   "metadata": {},
   "source": [
    "### 504 background \n",
    "\n",
    "#### CERTIFIED DEVELOPMENT COMPANY LOAN PROGRAM (504 LOANS)\n",
    "\n",
    "\n",
    "~ The SBA 504 loan (vs the 7(a) loan) is 'packaged' by CDC, (is similarly for ~$5m) for businesses that create jobs, meet a public policy goal (rural development, expansion of small businesses run by veterans, women, & minorities ..or manufacturer & energy related policy goal)\n",
    "\n",
    "...the 504 loan program provides long-term, fixed-rate, subordinate mortgage financing for acquisition and/or renovation of capital assets including land, buildings  and equipment. Some refinancing is also permitted. Most for-profit small businesses are eligible for this program. \n",
    "\n",
    "CDCs work with banks and other lenders to make loans in first position on reasonable terms, helping lenders retain growing customers and provide Community Reinvestment Act credit.\n",
    "\n",
    "~ Businesses that receive 504 loans are: small (net worth under $15 million, net profit after taxes under $5 million, or meet other SBA size standards) & organized for-profit.\n",
    "\n",
    "\n",
    "\n",
    "#### About CDCs\n",
    "\n",
    "A Certified Development Company (CDC) is a nonprofit corporation that promotes economic development within its community through 504 Loans. CDCs are certified and regulated by the SBA, and work with SBA and participating lenders (typically banks) to provide financing to small businesses, which in turn, accomplishes the goal of community economic development. There are over 260 CDCs nationwide each having a defined Area of Operations covering a specific geographic area. \n",
    "\n",
    "\n",
    "#### Links\n",
    "\n",
    "https://www.sba.gov/sites/default/files/aboutsbaarticle/2017_WinterSpring_National_Resource_Guide.pdf\n",
    "\n",
    "www.sba.gov/504\n",
    "\n"
   ]
  },
  {
   "cell_type": "markdown",
   "metadata": {},
   "source": [
    "### 7(a) background \n",
    "\n",
    "\n",
    "7(a) LOAN PROGRAM\n",
    "   The 7(a) Loan program is the SBA’s primary business loan program. It is the agency’s most frequently used non-disaster financial assistance program because of its flexibility in loan structure, variety of uses for the loan proceeds and availability. The program has broad eligibility requirements and credit criteria to accommodate a wide \n",
    "range of financing needs.\n",
    "\n",
    "...   In the Federal Government’s 2013 Fiscal Year ... about 80 percent of the dollars and 38 percent of the number of all 7(a) loans were Basic 7(a) Loans.\n",
    "\n",
    "...Since 1996, all 7(a) loans have only been provided on a guaranteed basis, meaning from a lender participating in the 7(a) Loan Guaranty Program\n",
    "\n",
    "...The lender will generally review the credit merits of the request before deciding if they will make the loan themselves or if they will need an SBA guaranty. If a guaranty is needed, the lender will also review the application for SBA eligibility. The applicant should be prepared to complete some additional documents if the lender says they need an SBA guaranty for approval. Applicants who feel they need more help with the process should contact their local SBA district office or one of the SBA’s resource partners for assistance.\n",
    "\n",
    "\n",
    "Also STTR (technology transfer) & SBIR (innovation research) & SBIC (investment co.) etc..\n",
    "\n",
    "\n",
    "https://www.sba.gov/sites/default/files/aboutsbaarticle/2017_WinterSpring_National_Resource_Guide.pdf"
   ]
  }
 ],
 "metadata": {
  "kernelspec": {
   "display_name": "Python 3",
   "language": "python",
   "name": "python3"
  },
  "language_info": {
   "codemirror_mode": {
    "name": "ipython",
    "version": 3
   },
   "file_extension": ".py",
   "mimetype": "text/x-python",
   "name": "python",
   "nbconvert_exporter": "python",
   "pygments_lexer": "ipython3",
   "version": "3.5.2"
  }
 },
 "nbformat": 4,
 "nbformat_minor": 2
}
