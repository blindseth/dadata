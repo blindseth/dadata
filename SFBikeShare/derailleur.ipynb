{
 "cells": [
  {
   "cell_type": "code",
   "execution_count": 17,
   "metadata": {
    "collapsed": true,
    "deletable": true,
    "editable": true
   },
   "outputs": [],
   "source": [
    "import pandas as pd\n",
    "import sqlite3"
   ]
  },
  {
   "cell_type": "code",
   "execution_count": 18,
   "metadata": {
    "collapsed": true,
    "deletable": true,
    "editable": true
   },
   "outputs": [],
   "source": [
    "conn = sqlite3.connect('database.sqlite')      # connect to database"
   ]
  },
  {
   "cell_type": "code",
   "execution_count": 19,
   "metadata": {
    "collapsed": true
   },
   "outputs": [],
   "source": [
    "# station ------------------\n",
    "\n",
    "sta_sql = \"select * from station;\""
   ]
  },
  {
   "cell_type": "code",
   "execution_count": 20,
   "metadata": {
    "collapsed": true
   },
   "outputs": [],
   "source": [
    "df_sta = pd.read_sql(sta_sql,conn)             # load dataframe "
   ]
  },
  {
   "cell_type": "code",
   "execution_count": 21,
   "metadata": {
    "collapsed": false
   },
   "outputs": [
    {
     "data": {
      "text/html": [
       "<div>\n",
       "<table border=\"1\" class=\"dataframe\">\n",
       "  <thead>\n",
       "    <tr style=\"text-align: right;\">\n",
       "      <th></th>\n",
       "      <th>id</th>\n",
       "      <th>name</th>\n",
       "      <th>lat</th>\n",
       "      <th>long</th>\n",
       "      <th>dock_count</th>\n",
       "      <th>city</th>\n",
       "      <th>installation_date</th>\n",
       "    </tr>\n",
       "  </thead>\n",
       "  <tbody>\n",
       "    <tr>\n",
       "      <th>0</th>\n",
       "      <td>2</td>\n",
       "      <td>San Jose Diridon Caltrain Station</td>\n",
       "      <td>37.329732</td>\n",
       "      <td>-121.901782</td>\n",
       "      <td>27</td>\n",
       "      <td>San Jose</td>\n",
       "      <td>8/6/2013</td>\n",
       "    </tr>\n",
       "    <tr>\n",
       "      <th>1</th>\n",
       "      <td>3</td>\n",
       "      <td>San Jose Civic Center</td>\n",
       "      <td>37.330698</td>\n",
       "      <td>-121.888979</td>\n",
       "      <td>15</td>\n",
       "      <td>San Jose</td>\n",
       "      <td>8/5/2013</td>\n",
       "    </tr>\n",
       "    <tr>\n",
       "      <th>2</th>\n",
       "      <td>4</td>\n",
       "      <td>Santa Clara at Almaden</td>\n",
       "      <td>37.333988</td>\n",
       "      <td>-121.894902</td>\n",
       "      <td>11</td>\n",
       "      <td>San Jose</td>\n",
       "      <td>8/6/2013</td>\n",
       "    </tr>\n",
       "    <tr>\n",
       "      <th>3</th>\n",
       "      <td>5</td>\n",
       "      <td>Adobe on Almaden</td>\n",
       "      <td>37.331415</td>\n",
       "      <td>-121.893200</td>\n",
       "      <td>19</td>\n",
       "      <td>San Jose</td>\n",
       "      <td>8/5/2013</td>\n",
       "    </tr>\n",
       "    <tr>\n",
       "      <th>4</th>\n",
       "      <td>6</td>\n",
       "      <td>San Pedro Square</td>\n",
       "      <td>37.336721</td>\n",
       "      <td>-121.894074</td>\n",
       "      <td>15</td>\n",
       "      <td>San Jose</td>\n",
       "      <td>8/7/2013</td>\n",
       "    </tr>\n",
       "    <tr>\n",
       "      <th>5</th>\n",
       "      <td>7</td>\n",
       "      <td>Paseo de San Antonio</td>\n",
       "      <td>37.333798</td>\n",
       "      <td>-121.886943</td>\n",
       "      <td>15</td>\n",
       "      <td>San Jose</td>\n",
       "      <td>8/7/2013</td>\n",
       "    </tr>\n",
       "    <tr>\n",
       "      <th>6</th>\n",
       "      <td>8</td>\n",
       "      <td>San Salvador at 1st</td>\n",
       "      <td>37.330165</td>\n",
       "      <td>-121.885831</td>\n",
       "      <td>15</td>\n",
       "      <td>San Jose</td>\n",
       "      <td>8/5/2013</td>\n",
       "    </tr>\n",
       "    <tr>\n",
       "      <th>7</th>\n",
       "      <td>9</td>\n",
       "      <td>Japantown</td>\n",
       "      <td>37.348742</td>\n",
       "      <td>-121.894715</td>\n",
       "      <td>15</td>\n",
       "      <td>San Jose</td>\n",
       "      <td>8/5/2013</td>\n",
       "    </tr>\n",
       "    <tr>\n",
       "      <th>8</th>\n",
       "      <td>10</td>\n",
       "      <td>San Jose City Hall</td>\n",
       "      <td>37.337391</td>\n",
       "      <td>-121.886995</td>\n",
       "      <td>15</td>\n",
       "      <td>San Jose</td>\n",
       "      <td>8/6/2013</td>\n",
       "    </tr>\n",
       "    <tr>\n",
       "      <th>9</th>\n",
       "      <td>11</td>\n",
       "      <td>MLK Library</td>\n",
       "      <td>37.335885</td>\n",
       "      <td>-121.885660</td>\n",
       "      <td>19</td>\n",
       "      <td>San Jose</td>\n",
       "      <td>8/6/2013</td>\n",
       "    </tr>\n",
       "  </tbody>\n",
       "</table>\n",
       "</div>"
      ],
      "text/plain": [
       "   id                               name        lat        long  dock_count  \\\n",
       "0   2  San Jose Diridon Caltrain Station  37.329732 -121.901782          27   \n",
       "1   3              San Jose Civic Center  37.330698 -121.888979          15   \n",
       "2   4             Santa Clara at Almaden  37.333988 -121.894902          11   \n",
       "3   5                   Adobe on Almaden  37.331415 -121.893200          19   \n",
       "4   6                   San Pedro Square  37.336721 -121.894074          15   \n",
       "5   7               Paseo de San Antonio  37.333798 -121.886943          15   \n",
       "6   8                San Salvador at 1st  37.330165 -121.885831          15   \n",
       "7   9                          Japantown  37.348742 -121.894715          15   \n",
       "8  10                 San Jose City Hall  37.337391 -121.886995          15   \n",
       "9  11                        MLK Library  37.335885 -121.885660          19   \n",
       "\n",
       "       city installation_date  \n",
       "0  San Jose          8/6/2013  \n",
       "1  San Jose          8/5/2013  \n",
       "2  San Jose          8/6/2013  \n",
       "3  San Jose          8/5/2013  \n",
       "4  San Jose          8/7/2013  \n",
       "5  San Jose          8/7/2013  \n",
       "6  San Jose          8/5/2013  \n",
       "7  San Jose          8/5/2013  \n",
       "8  San Jose          8/6/2013  \n",
       "9  San Jose          8/6/2013  "
      ]
     },
     "execution_count": 21,
     "metadata": {},
     "output_type": "execute_result"
    }
   ],
   "source": [
    "df_sta.head(10)"
   ]
  },
  {
   "cell_type": "code",
   "execution_count": 22,
   "metadata": {
    "collapsed": false
   },
   "outputs": [
    {
     "data": {
      "text/plain": [
       "(70, 7)"
      ]
     },
     "execution_count": 22,
     "metadata": {},
     "output_type": "execute_result"
    }
   ],
   "source": [
    "df_sta.shape"
   ]
  },
  {
   "cell_type": "code",
   "execution_count": 72,
   "metadata": {
    "collapsed": false
   },
   "outputs": [
    {
     "data": {
      "text/plain": [
       "city\n",
       "San Francisco    665\n",
       "San Jose         264\n",
       "Mountain View    117\n",
       "Redwood City     115\n",
       "Palo Alto         75\n",
       "Name: dock_count, dtype: int64"
      ]
     },
     "execution_count": 72,
     "metadata": {},
     "output_type": "execute_result"
    }
   ],
   "source": [
    "# docks by city\n",
    "\n",
    "df_sta.groupby('city').dock_count.sum().sort_values(ascending=False)"
   ]
  },
  {
   "cell_type": "code",
   "execution_count": 29,
   "metadata": {
    "collapsed": false
   },
   "outputs": [
    {
     "data": {
      "text/html": [
       "<div>\n",
       "<table border=\"1\" class=\"dataframe\">\n",
       "  <thead>\n",
       "    <tr style=\"text-align: right;\">\n",
       "      <th></th>\n",
       "      <th>id</th>\n",
       "      <th>duration</th>\n",
       "      <th>start_date</th>\n",
       "      <th>start_station_name</th>\n",
       "      <th>start_station_id</th>\n",
       "      <th>end_date</th>\n",
       "      <th>end_station_name</th>\n",
       "      <th>end_station_id</th>\n",
       "      <th>bike_id</th>\n",
       "      <th>subscription_type</th>\n",
       "      <th>zip_code</th>\n",
       "    </tr>\n",
       "  </thead>\n",
       "  <tbody>\n",
       "    <tr>\n",
       "      <th>0</th>\n",
       "      <td>4069</td>\n",
       "      <td>174</td>\n",
       "      <td>8/29/2013 9:08</td>\n",
       "      <td>2nd at South Park</td>\n",
       "      <td>64</td>\n",
       "      <td>8/29/2013 9:11</td>\n",
       "      <td>2nd at South Park</td>\n",
       "      <td>64</td>\n",
       "      <td>288</td>\n",
       "      <td>Subscriber</td>\n",
       "      <td>94114</td>\n",
       "    </tr>\n",
       "    <tr>\n",
       "      <th>1</th>\n",
       "      <td>4073</td>\n",
       "      <td>1067</td>\n",
       "      <td>8/29/2013 9:24</td>\n",
       "      <td>South Van Ness at Market</td>\n",
       "      <td>66</td>\n",
       "      <td>8/29/2013 9:42</td>\n",
       "      <td>San Francisco Caltrain 2 (330 Townsend)</td>\n",
       "      <td>69</td>\n",
       "      <td>321</td>\n",
       "      <td>Subscriber</td>\n",
       "      <td>94703</td>\n",
       "    </tr>\n",
       "    <tr>\n",
       "      <th>2</th>\n",
       "      <td>4074</td>\n",
       "      <td>1131</td>\n",
       "      <td>8/29/2013 9:24</td>\n",
       "      <td>South Van Ness at Market</td>\n",
       "      <td>66</td>\n",
       "      <td>8/29/2013 9:43</td>\n",
       "      <td>San Francisco Caltrain 2 (330 Townsend)</td>\n",
       "      <td>69</td>\n",
       "      <td>317</td>\n",
       "      <td>Subscriber</td>\n",
       "      <td>94115</td>\n",
       "    </tr>\n",
       "    <tr>\n",
       "      <th>3</th>\n",
       "      <td>4075</td>\n",
       "      <td>1117</td>\n",
       "      <td>8/29/2013 9:24</td>\n",
       "      <td>South Van Ness at Market</td>\n",
       "      <td>66</td>\n",
       "      <td>8/29/2013 9:43</td>\n",
       "      <td>San Francisco Caltrain 2 (330 Townsend)</td>\n",
       "      <td>69</td>\n",
       "      <td>316</td>\n",
       "      <td>Subscriber</td>\n",
       "      <td>94122</td>\n",
       "    </tr>\n",
       "    <tr>\n",
       "      <th>4</th>\n",
       "      <td>4076</td>\n",
       "      <td>1118</td>\n",
       "      <td>8/29/2013 9:25</td>\n",
       "      <td>South Van Ness at Market</td>\n",
       "      <td>66</td>\n",
       "      <td>8/29/2013 9:43</td>\n",
       "      <td>San Francisco Caltrain 2 (330 Townsend)</td>\n",
       "      <td>69</td>\n",
       "      <td>322</td>\n",
       "      <td>Subscriber</td>\n",
       "      <td>94597</td>\n",
       "    </tr>\n",
       "    <tr>\n",
       "      <th>5</th>\n",
       "      <td>4078</td>\n",
       "      <td>3829</td>\n",
       "      <td>8/29/2013 9:31</td>\n",
       "      <td>Redwood City Caltrain Station</td>\n",
       "      <td>22</td>\n",
       "      <td>8/29/2013 10:34</td>\n",
       "      <td>Redwood City Caltrain Station</td>\n",
       "      <td>22</td>\n",
       "      <td>228</td>\n",
       "      <td>Customer</td>\n",
       "      <td>94062</td>\n",
       "    </tr>\n",
       "    <tr>\n",
       "      <th>6</th>\n",
       "      <td>4079</td>\n",
       "      <td>995</td>\n",
       "      <td>8/29/2013 9:35</td>\n",
       "      <td>South Van Ness at Market</td>\n",
       "      <td>66</td>\n",
       "      <td>8/29/2013 9:52</td>\n",
       "      <td>South Van Ness at Market</td>\n",
       "      <td>66</td>\n",
       "      <td>327</td>\n",
       "      <td>Subscriber</td>\n",
       "      <td>94102</td>\n",
       "    </tr>\n",
       "    <tr>\n",
       "      <th>7</th>\n",
       "      <td>4080</td>\n",
       "      <td>764</td>\n",
       "      <td>8/29/2013 9:36</td>\n",
       "      <td>South Van Ness at Market</td>\n",
       "      <td>66</td>\n",
       "      <td>8/29/2013 9:49</td>\n",
       "      <td>San Francisco Caltrain 2 (330 Townsend)</td>\n",
       "      <td>69</td>\n",
       "      <td>315</td>\n",
       "      <td>Subscriber</td>\n",
       "      <td>94117</td>\n",
       "    </tr>\n",
       "    <tr>\n",
       "      <th>8</th>\n",
       "      <td>4081</td>\n",
       "      <td>218</td>\n",
       "      <td>8/29/2013 9:38</td>\n",
       "      <td>Mountain View City Hall</td>\n",
       "      <td>27</td>\n",
       "      <td>8/29/2013 9:41</td>\n",
       "      <td>Mountain View City Hall</td>\n",
       "      <td>27</td>\n",
       "      <td>150</td>\n",
       "      <td>Subscriber</td>\n",
       "      <td>97214</td>\n",
       "    </tr>\n",
       "    <tr>\n",
       "      <th>9</th>\n",
       "      <td>4084</td>\n",
       "      <td>287</td>\n",
       "      <td>8/29/2013 9:41</td>\n",
       "      <td>Mountain View City Hall</td>\n",
       "      <td>27</td>\n",
       "      <td>8/29/2013 9:46</td>\n",
       "      <td>Mountain View City Hall</td>\n",
       "      <td>27</td>\n",
       "      <td>138</td>\n",
       "      <td>Customer</td>\n",
       "      <td>97214</td>\n",
       "    </tr>\n",
       "  </tbody>\n",
       "</table>\n",
       "</div>"
      ],
      "text/plain": [
       "     id  duration      start_date             start_station_name  \\\n",
       "0  4069       174  8/29/2013 9:08              2nd at South Park   \n",
       "1  4073      1067  8/29/2013 9:24       South Van Ness at Market   \n",
       "2  4074      1131  8/29/2013 9:24       South Van Ness at Market   \n",
       "3  4075      1117  8/29/2013 9:24       South Van Ness at Market   \n",
       "4  4076      1118  8/29/2013 9:25       South Van Ness at Market   \n",
       "5  4078      3829  8/29/2013 9:31  Redwood City Caltrain Station   \n",
       "6  4079       995  8/29/2013 9:35       South Van Ness at Market   \n",
       "7  4080       764  8/29/2013 9:36       South Van Ness at Market   \n",
       "8  4081       218  8/29/2013 9:38        Mountain View City Hall   \n",
       "9  4084       287  8/29/2013 9:41        Mountain View City Hall   \n",
       "\n",
       "   start_station_id         end_date                         end_station_name  \\\n",
       "0                64   8/29/2013 9:11                        2nd at South Park   \n",
       "1                66   8/29/2013 9:42  San Francisco Caltrain 2 (330 Townsend)   \n",
       "2                66   8/29/2013 9:43  San Francisco Caltrain 2 (330 Townsend)   \n",
       "3                66   8/29/2013 9:43  San Francisco Caltrain 2 (330 Townsend)   \n",
       "4                66   8/29/2013 9:43  San Francisco Caltrain 2 (330 Townsend)   \n",
       "5                22  8/29/2013 10:34            Redwood City Caltrain Station   \n",
       "6                66   8/29/2013 9:52                 South Van Ness at Market   \n",
       "7                66   8/29/2013 9:49  San Francisco Caltrain 2 (330 Townsend)   \n",
       "8                27   8/29/2013 9:41                  Mountain View City Hall   \n",
       "9                27   8/29/2013 9:46                  Mountain View City Hall   \n",
       "\n",
       "   end_station_id  bike_id subscription_type zip_code  \n",
       "0              64      288        Subscriber    94114  \n",
       "1              69      321        Subscriber    94703  \n",
       "2              69      317        Subscriber    94115  \n",
       "3              69      316        Subscriber    94122  \n",
       "4              69      322        Subscriber    94597  \n",
       "5              22      228          Customer    94062  \n",
       "6              66      327        Subscriber    94102  \n",
       "7              69      315        Subscriber    94117  \n",
       "8              27      150        Subscriber    97214  \n",
       "9              27      138          Customer    97214  "
      ]
     },
     "execution_count": 29,
     "metadata": {},
     "output_type": "execute_result"
    }
   ],
   "source": [
    "# trip ------------------\n",
    "\n",
    "## sqlite> select count(id) from trip;\n",
    "## 669,959\n",
    "\n",
    "trip_sql = 'select * from trip;'\n",
    "\n",
    "df_trip = pd.read_sql(trip_sql,conn)             # load dataframe \n",
    "\n",
    "df_trip.head(10)"
   ]
  },
  {
   "cell_type": "code",
   "execution_count": 73,
   "metadata": {
    "collapsed": false
   },
   "outputs": [
    {
     "data": {
      "text/plain": [
       "start_station_id  start_station_name                           \n",
       "70                San Francisco Caltrain (Townsend at 4th)         49092\n",
       "69                San Francisco Caltrain 2 (330 Townsend)          33742\n",
       "50                Harry Bridges Plaza (Ferry Building)             32934\n",
       "60                Embarcadero at Sansome                           27713\n",
       "55                Temporary Transbay Terminal (Howard at Beale)    26089\n",
       "61                2nd at Townsend                                  25837\n",
       "74                Steuart at Market                                24838\n",
       "77                Market at Sansome                                24172\n",
       "65                Townsend at 7th                                  23724\n",
       "67                Market at 10th                                   20272\n",
       "Name: id, dtype: int64"
      ]
     },
     "execution_count": 73,
     "metadata": {},
     "output_type": "execute_result"
    }
   ],
   "source": [
    "# trip counts ------ \n",
    "# busiest starting stations\n",
    "\n",
    "df_trip.groupby(['start_station_id','start_station_name']).id.count().sort_values(ascending=False).head(10)"
   ]
  },
  {
   "cell_type": "code",
   "execution_count": null,
   "metadata": {
    "collapsed": true
   },
   "outputs": [],
   "source": []
  },
  {
   "cell_type": "code",
   "execution_count": 92,
   "metadata": {
    "collapsed": false
   },
   "outputs": [
    {
     "data": {
      "text/html": [
       "<div>\n",
       "<table border=\"1\" class=\"dataframe\">\n",
       "  <thead>\n",
       "    <tr style=\"text-align: right;\">\n",
       "      <th>subscription_type</th>\n",
       "      <th>Customer</th>\n",
       "      <th>Subscriber</th>\n",
       "    </tr>\n",
       "    <tr>\n",
       "      <th>start_station_name</th>\n",
       "      <th></th>\n",
       "      <th></th>\n",
       "    </tr>\n",
       "  </thead>\n",
       "  <tbody>\n",
       "    <tr>\n",
       "      <th>Embarcadero at Sansome</th>\n",
       "      <td>10445</td>\n",
       "      <td>17268</td>\n",
       "    </tr>\n",
       "    <tr>\n",
       "      <th>Harry Bridges Plaza (Ferry Building)</th>\n",
       "      <td>9432</td>\n",
       "      <td>23502</td>\n",
       "    </tr>\n",
       "    <tr>\n",
       "      <th>Market at 4th</th>\n",
       "      <td>4521</td>\n",
       "      <td>15644</td>\n",
       "    </tr>\n",
       "    <tr>\n",
       "      <th>Powell Street BART</th>\n",
       "      <td>3932</td>\n",
       "      <td>14446</td>\n",
       "    </tr>\n",
       "    <tr>\n",
       "      <th>Embarcadero at Vallejo</th>\n",
       "      <td>3810</td>\n",
       "      <td>6782</td>\n",
       "    </tr>\n",
       "    <tr>\n",
       "      <th>Powell at Post (Union Square)</th>\n",
       "      <td>3758</td>\n",
       "      <td>8738</td>\n",
       "    </tr>\n",
       "    <tr>\n",
       "      <th>Steuart at Market</th>\n",
       "      <td>3373</td>\n",
       "      <td>21465</td>\n",
       "    </tr>\n",
       "    <tr>\n",
       "      <th>2nd at Townsend</th>\n",
       "      <td>3355</td>\n",
       "      <td>22482</td>\n",
       "    </tr>\n",
       "    <tr>\n",
       "      <th>San Francisco Caltrain (Townsend at 4th)</th>\n",
       "      <td>3250</td>\n",
       "      <td>45842</td>\n",
       "    </tr>\n",
       "    <tr>\n",
       "      <th>Market at Sansome</th>\n",
       "      <td>2959</td>\n",
       "      <td>21213</td>\n",
       "    </tr>\n",
       "  </tbody>\n",
       "</table>\n",
       "</div>"
      ],
      "text/plain": [
       "subscription_type                         Customer  Subscriber\n",
       "start_station_name                                            \n",
       "Embarcadero at Sansome                       10445       17268\n",
       "Harry Bridges Plaza (Ferry Building)          9432       23502\n",
       "Market at 4th                                 4521       15644\n",
       "Powell Street BART                            3932       14446\n",
       "Embarcadero at Vallejo                        3810        6782\n",
       "Powell at Post (Union Square)                 3758        8738\n",
       "Steuart at Market                             3373       21465\n",
       "2nd at Townsend                               3355       22482\n",
       "San Francisco Caltrain (Townsend at 4th)      3250       45842\n",
       "Market at Sansome                             2959       21213"
      ]
     },
     "execution_count": 92,
     "metadata": {},
     "output_type": "execute_result"
    }
   ],
   "source": [
    "# trip count by most popular *customer* starting stations\n",
    "\n",
    "df_trip.pivot_table('id', index='start_station_name',columns='subscription_type', aggfunc='count').sort_values('Customer', ascending=False).head(10)\n",
    "\n",
    "# vs filtering for customers / non-subscribers first:\n",
    "# df_trip[df_trip.subscription_type=='Customer'].groupby(['start_station_id','start_station_name']).id.count().sort_values(ascending=False).head(10)"
   ]
  },
  {
   "cell_type": "code",
   "execution_count": 93,
   "metadata": {
    "collapsed": false
   },
   "outputs": [
    {
     "data": {
      "text/html": [
       "<div>\n",
       "<table border=\"1\" class=\"dataframe\">\n",
       "  <thead>\n",
       "    <tr style=\"text-align: right;\">\n",
       "      <th>subscription_type</th>\n",
       "      <th>Customer</th>\n",
       "      <th>Subscriber</th>\n",
       "    </tr>\n",
       "    <tr>\n",
       "      <th>start_station_name</th>\n",
       "      <th></th>\n",
       "      <th></th>\n",
       "    </tr>\n",
       "  </thead>\n",
       "  <tbody>\n",
       "    <tr>\n",
       "      <th>San Francisco Caltrain (Townsend at 4th)</th>\n",
       "      <td>3250</td>\n",
       "      <td>45842</td>\n",
       "    </tr>\n",
       "    <tr>\n",
       "      <th>San Francisco Caltrain 2 (330 Townsend)</th>\n",
       "      <td>1780</td>\n",
       "      <td>31962</td>\n",
       "    </tr>\n",
       "    <tr>\n",
       "      <th>Temporary Transbay Terminal (Howard at Beale)</th>\n",
       "      <td>1039</td>\n",
       "      <td>25050</td>\n",
       "    </tr>\n",
       "    <tr>\n",
       "      <th>Harry Bridges Plaza (Ferry Building)</th>\n",
       "      <td>9432</td>\n",
       "      <td>23502</td>\n",
       "    </tr>\n",
       "    <tr>\n",
       "      <th>2nd at Townsend</th>\n",
       "      <td>3355</td>\n",
       "      <td>22482</td>\n",
       "    </tr>\n",
       "    <tr>\n",
       "      <th>Townsend at 7th</th>\n",
       "      <td>1606</td>\n",
       "      <td>22118</td>\n",
       "    </tr>\n",
       "    <tr>\n",
       "      <th>Steuart at Market</th>\n",
       "      <td>3373</td>\n",
       "      <td>21465</td>\n",
       "    </tr>\n",
       "    <tr>\n",
       "      <th>Market at Sansome</th>\n",
       "      <td>2959</td>\n",
       "      <td>21213</td>\n",
       "    </tr>\n",
       "    <tr>\n",
       "      <th>Market at 10th</th>\n",
       "      <td>2724</td>\n",
       "      <td>17548</td>\n",
       "    </tr>\n",
       "    <tr>\n",
       "      <th>Embarcadero at Sansome</th>\n",
       "      <td>10445</td>\n",
       "      <td>17268</td>\n",
       "    </tr>\n",
       "  </tbody>\n",
       "</table>\n",
       "</div>"
      ],
      "text/plain": [
       "subscription_type                              Customer  Subscriber\n",
       "start_station_name                                                 \n",
       "San Francisco Caltrain (Townsend at 4th)           3250       45842\n",
       "San Francisco Caltrain 2 (330 Townsend)            1780       31962\n",
       "Temporary Transbay Terminal (Howard at Beale)      1039       25050\n",
       "Harry Bridges Plaza (Ferry Building)               9432       23502\n",
       "2nd at Townsend                                    3355       22482\n",
       "Townsend at 7th                                    1606       22118\n",
       "Steuart at Market                                  3373       21465\n",
       "Market at Sansome                                  2959       21213\n",
       "Market at 10th                                     2724       17548\n",
       "Embarcadero at Sansome                            10445       17268"
      ]
     },
     "execution_count": 93,
     "metadata": {},
     "output_type": "execute_result"
    }
   ],
   "source": [
    "# trip count by most popular *subscriber* starting stations\n",
    "\n",
    "df_trip.pivot_table('id', index='start_station_name',columns='subscription_type', aggfunc='count').sort_values('Subscriber', ascending=False).head(10)\n",
    "\n",
    "# vs filtering for 'Subscriber' first:\n",
    "# df_trip[df_trip.subscription_type=='Subscriber'].groupby(['start_station_id','start_station_name']).id.count().sort_values(ascending=False).head(10)"
   ]
  },
  {
   "cell_type": "code",
   "execution_count": 148,
   "metadata": {
    "collapsed": false
   },
   "outputs": [],
   "source": [
    "# graphs of trip counts ---\n",
    "\n",
    "# start_station_id = shorter\n",
    "# subs_1 = df_trip[df_trip.subscription_type=='Subscriber'].groupby(['start_station_id']).id.count().sort_values(ascending=False).head(10)\n",
    "# subs_1\n"
   ]
  },
  {
   "cell_type": "code",
   "execution_count": 144,
   "metadata": {
    "collapsed": false
   },
   "outputs": [],
   "source": [
    "# subs_1.plot()"
   ]
  },
  {
   "cell_type": "code",
   "execution_count": 147,
   "metadata": {
    "collapsed": false
   },
   "outputs": [
    {
     "data": {
      "text/plain": [
       "<matplotlib.axes._subplots.AxesSubplot at 0x1380d9b00>"
      ]
     },
     "execution_count": 147,
     "metadata": {},
     "output_type": "execute_result"
    },
    {
     "data": {
      "image/png": "[encoded data removed]",
      "text/plain": [
       "<matplotlib.figure.Figure at 0x151da1e10>"
      ]
     },
     "metadata": {},
     "output_type": "display_data"
    }
   ],
   "source": [
    "subs_2 = df_trip[df_trip.subscription_type=='Subscriber'].groupby(['start_station_name']).id.count().sort_values(ascending=False).head(10)\n",
    "subs_2.plot()"
   ]
  },
  {
   "cell_type": "code",
   "execution_count": null,
   "metadata": {
    "collapsed": true
   },
   "outputs": [],
   "source": []
  },
  {
   "cell_type": "code",
   "execution_count": 110,
   "metadata": {
    "collapsed": true
   },
   "outputs": [],
   "source": [
    "# seaborn ---\n",
    "\n",
    "%matplotlib inline\n",
    "\n",
    "import matplotlib.pyplot as plt\n",
    "import seaborn as sns\n",
    "\n",
    "sns.set(color_codes=True)"
   ]
  },
  {
   "cell_type": "code",
   "execution_count": 114,
   "metadata": {
    "collapsed": false
   },
   "outputs": [
    {
     "data": {
      "text/plain": [
       "start_station_name\n",
       "San Francisco Caltrain (Townsend at 4th)         45842\n",
       "San Francisco Caltrain 2 (330 Townsend)          31962\n",
       "Temporary Transbay Terminal (Howard at Beale)    25050\n",
       "Harry Bridges Plaza (Ferry Building)             23502\n",
       "2nd at Townsend                                  22482\n",
       "Townsend at 7th                                  22118\n",
       "Steuart at Market                                21465\n",
       "Market at Sansome                                21213\n",
       "Market at 10th                                   17548\n",
       "Embarcadero at Sansome                           17268\n",
       "Name: id, dtype: int64"
      ]
     },
     "execution_count": 114,
     "metadata": {},
     "output_type": "execute_result"
    }
   ],
   "source": [
    "# first pass at trip graphs\n",
    "\n",
    "subs = df_trip[df_trip.subscription_type=='Subscriber'].groupby(['start_station_name']).id.count().sort_values(ascending=False).head(10)\n",
    "# df_trip[df_trip.subscription_type=='Customer'].groupby(['start_station_name']).id.count().sort_values(ascending=False).head(10)\n",
    "\n",
    "subs"
   ]
  },
  {
   "cell_type": "code",
   "execution_count": 149,
   "metadata": {
    "collapsed": false
   },
   "outputs": [],
   "source": [
    "# type(subs)\n",
    "# pandas.core.series.Series\n",
    "# subs.index"
   ]
  },
  {
   "cell_type": "code",
   "execution_count": 128,
   "metadata": {
    "collapsed": false
   },
   "outputs": [],
   "source": [
    "# sns.stripplot(x=subs,y=subs.index, data=subs)"
   ]
  },
  {
   "cell_type": "code",
   "execution_count": 150,
   "metadata": {
    "collapsed": false
   },
   "outputs": [],
   "source": [
    "# subs ---\n",
    "# sns.distplot(subs, kde=False, rug=True) #, axlabel=subs.index.all)\n",
    "\n",
    "# df_trip ---\n",
    "# sns.stripplot(x='start_station_name', y=id.count(), data=df_trip)\n",
    "\n",
    "# sns.stripplot(x='start_station_name', groupby='start_station_name', data=df_trip)\n",
    "              # y=df_trip.id.count,data=df_trip)\n",
    "    \n",
    "# sns.stripplot(groupby='start_station_name', data=df_trip)\n",
    "\n",
    "# sns.kdeplot(subs)"
   ]
  },
  {
   "cell_type": "code",
   "execution_count": null,
   "metadata": {
    "collapsed": true
   },
   "outputs": [],
   "source": []
  },
  {
   "cell_type": "code",
   "execution_count": null,
   "metadata": {
    "collapsed": true
   },
   "outputs": [],
   "source": []
  },
  {
   "cell_type": "code",
   "execution_count": 100,
   "metadata": {
    "collapsed": false
   },
   "outputs": [
    {
     "data": {
      "text/plain": [
       "'1/1/2014 0:14'"
      ]
     },
     "execution_count": 100,
     "metadata": {},
     "output_type": "execute_result"
    }
   ],
   "source": [
    "# other trip info - what time does trip data cover?\n",
    "\n",
    "df_trip.start_date.min()"
   ]
  },
  {
   "cell_type": "code",
   "execution_count": 101,
   "metadata": {
    "collapsed": false
   },
   "outputs": [
    {
     "data": {
      "text/plain": [
       "'9/9/2014 9:59'"
      ]
     },
     "execution_count": 101,
     "metadata": {},
     "output_type": "execute_result"
    }
   ],
   "source": [
    "df_trip.start_date.max()"
   ]
  },
  {
   "cell_type": "code",
   "execution_count": null,
   "metadata": {
    "collapsed": true
   },
   "outputs": [],
   "source": []
  },
  {
   "cell_type": "code",
   "execution_count": 98,
   "metadata": {
    "collapsed": false
   },
   "outputs": [
    {
     "data": {
      "text/html": [
       "<div>\n",
       "<table border=\"1\" class=\"dataframe\">\n",
       "  <thead>\n",
       "    <tr style=\"text-align: right;\">\n",
       "      <th>subscription_type</th>\n",
       "      <th>Customer</th>\n",
       "      <th>Subscriber</th>\n",
       "    </tr>\n",
       "    <tr>\n",
       "      <th>start_station_name</th>\n",
       "      <th></th>\n",
       "      <th></th>\n",
       "    </tr>\n",
       "  </thead>\n",
       "  <tbody>\n",
       "    <tr>\n",
       "      <th>Redwood City Medical Center</th>\n",
       "      <td>25585.294118</td>\n",
       "      <td>1305.061372</td>\n",
       "    </tr>\n",
       "    <tr>\n",
       "      <th>South Van Ness at Market</th>\n",
       "      <td>14390.366479</td>\n",
       "      <td>702.283042</td>\n",
       "    </tr>\n",
       "    <tr>\n",
       "      <th>Redwood City Public Library</th>\n",
       "      <td>12736.971831</td>\n",
       "      <td>500.366197</td>\n",
       "    </tr>\n",
       "    <tr>\n",
       "      <th>Rengstorff Avenue / California Street</th>\n",
       "      <td>12497.662722</td>\n",
       "      <td>617.356511</td>\n",
       "    </tr>\n",
       "    <tr>\n",
       "      <th>Redwood City Caltrain Station</th>\n",
       "      <td>12251.984314</td>\n",
       "      <td>484.810624</td>\n",
       "    </tr>\n",
       "    <tr>\n",
       "      <th>San Mateo County Center</th>\n",
       "      <td>11665.780000</td>\n",
       "      <td>828.793249</td>\n",
       "    </tr>\n",
       "    <tr>\n",
       "      <th>San Antonio Caltrain Station</th>\n",
       "      <td>10902.273458</td>\n",
       "      <td>411.052566</td>\n",
       "    </tr>\n",
       "    <tr>\n",
       "      <th>University and Emerson</th>\n",
       "      <td>9198.967169</td>\n",
       "      <td>917.418182</td>\n",
       "    </tr>\n",
       "    <tr>\n",
       "      <th>Castro Street and El Camino Real</th>\n",
       "      <td>9140.280488</td>\n",
       "      <td>471.005272</td>\n",
       "    </tr>\n",
       "    <tr>\n",
       "      <th>Park at Olive</th>\n",
       "      <td>8820.383929</td>\n",
       "      <td>881.574879</td>\n",
       "    </tr>\n",
       "  </tbody>\n",
       "</table>\n",
       "</div>"
      ],
      "text/plain": [
       "subscription_type                          Customer   Subscriber\n",
       "start_station_name                                              \n",
       "Redwood City Medical Center            25585.294118  1305.061372\n",
       "South Van Ness at Market               14390.366479   702.283042\n",
       "Redwood City Public Library            12736.971831   500.366197\n",
       "Rengstorff Avenue / California Street  12497.662722   617.356511\n",
       "Redwood City Caltrain Station          12251.984314   484.810624\n",
       "San Mateo County Center                11665.780000   828.793249\n",
       "San Antonio Caltrain Station           10902.273458   411.052566\n",
       "University and Emerson                  9198.967169   917.418182\n",
       "Castro Street and El Camino Real        9140.280488   471.005272\n",
       "Park at Olive                           8820.383929   881.574879"
      ]
     },
     "execution_count": 98,
     "metadata": {},
     "output_type": "execute_result"
    }
   ],
   "source": [
    "# pivot duration by starting station & subscription type. need to validate. \n",
    "# does duration work the same way for both customer types? or tourists = much longer rides\n",
    "\n",
    "df_trip.pivot_table('duration',index='start_station_name',columns='subscription_type').sort_values(by='Customer', ascending=False).head(10)"
   ]
  },
  {
   "cell_type": "code",
   "execution_count": null,
   "metadata": {
    "collapsed": true
   },
   "outputs": [],
   "source": []
  },
  {
   "cell_type": "code",
   "execution_count": null,
   "metadata": {
    "collapsed": true
   },
   "outputs": [],
   "source": []
  },
  {
   "cell_type": "code",
   "execution_count": null,
   "metadata": {
    "collapsed": false
   },
   "outputs": [],
   "source": []
  },
  {
   "cell_type": "code",
   "execution_count": null,
   "metadata": {
    "collapsed": false
   },
   "outputs": [],
   "source": []
  },
  {
   "cell_type": "code",
   "execution_count": null,
   "metadata": {
    "collapsed": false
   },
   "outputs": [],
   "source": []
  },
  {
   "cell_type": "code",
   "execution_count": null,
   "metadata": {
    "collapsed": true
   },
   "outputs": [],
   "source": []
  },
  {
   "cell_type": "code",
   "execution_count": null,
   "metadata": {
    "collapsed": true
   },
   "outputs": [],
   "source": []
  },
  {
   "cell_type": "code",
   "execution_count": null,
   "metadata": {
    "collapsed": false,
    "deletable": true,
    "editable": true
   },
   "outputs": [],
   "source": [
    "# status -------------------\n",
    "\n",
    "## sqlite> select count(*) from status;\n",
    "## 71,984,434\n",
    "##\n",
    "## table|status|status|3|CREATE TABLE status (\n",
    "##    station_id INTEGER,\n",
    "##    bikes_available INTEGER,\n",
    "##    docks_available INTEGER,\n",
    "##    time TEXT)\n",
    "##\n",
    "## sqlite> select max(time) from status;\n",
    "## 2015-08-31 23:59:02\n",
    "##\n",
    "## sqlite> select min(time) from status;\n",
    "##\n",
    "##\n",
    "## runs longer than trips, which covers '1/1/2014 0:14' through '9/9/2014 9:59'\n",
    "\n",
    "# status_sql = \"select * from status;\"\n",
    "\n",
    "# df_status = pd.read_sql(status_sql,conn)             # load dataframe \n",
    "\n",
    "# df_status.head(10)"
   ]
  },
  {
   "cell_type": "code",
   "execution_count": null,
   "metadata": {
    "collapsed": false,
    "deletable": true,
    "editable": true
   },
   "outputs": [],
   "source": [
    "# df_status.columns"
   ]
  },
  {
   "cell_type": "code",
   "execution_count": null,
   "metadata": {
    "collapsed": true,
    "deletable": true,
    "editable": true
   },
   "outputs": [],
   "source": []
  },
  {
   "cell_type": "code",
   "execution_count": null,
   "metadata": {
    "collapsed": true
   },
   "outputs": [],
   "source": [
    "# weather ------------------\n",
    "\n",
    "# sqlite> select count(*) from weather;\n",
    "# 3665\n",
    "\n",
    "weather_sql = 'select * from weather;'\n",
    "\n",
    "df_weather = pd.read_sql(weather_sql,conn)             # load dataframe \n",
    "\n",
    "df_weather.columns"
   ]
  },
  {
   "cell_type": "code",
   "execution_count": null,
   "metadata": {
    "collapsed": false
   },
   "outputs": [],
   "source": []
  },
  {
   "cell_type": "code",
   "execution_count": null,
   "metadata": {
    "collapsed": true
   },
   "outputs": [],
   "source": [
    "# merge weather & trips ----\n"
   ]
  },
  {
   "cell_type": "code",
   "execution_count": null,
   "metadata": {
    "collapsed": true
   },
   "outputs": [],
   "source": [
    "# merge trips & station ----\n"
   ]
  },
  {
   "cell_type": "code",
   "execution_count": null,
   "metadata": {
    "collapsed": true
   },
   "outputs": [],
   "source": [
    "# next ---------------------\n"
   ]
  },
  {
   "cell_type": "markdown",
   "metadata": {},
   "source": [
    "### Notes -------------"
   ]
  },
  {
   "cell_type": "code",
   "execution_count": null,
   "metadata": {
    "collapsed": true
   },
   "outputs": [],
   "source": [
    "# short trip counts ------\n",
    "# skip loading full table to save time while in exploratory phase\n",
    "\n",
    "## sqlite> select max(start_date) from trip;\n",
    "## 9/9/2014 9:59\n",
    "##\n",
    "## sqlite> select count(*) from trip where start_date > '9/9/2014 8:00';\n",
    "## 330\n",
    "\n",
    "# sm_trip_sql = \"select * from trip where start_date > '9/9/2014 8:00';\"\n",
    "\n",
    "# df_sm_trip = pd.read_sql(sm_trip_sql, conn)\n",
    "\n",
    "# df_sm_trip.head(10)\n",
    "\n",
    "# df_sm_trip.shape # (330, 11)\n",
    "\n",
    "# df_sm_trip.groupby('start_station_name').id.count().sort_values(ascending=False).head(10)"
   ]
  },
  {
   "cell_type": "code",
   "execution_count": null,
   "metadata": {
    "collapsed": true
   },
   "outputs": [],
   "source": []
  }
 ],
 "metadata": {
  "kernelspec": {
   "display_name": "Python 3",
   "language": "python",
   "name": "python3"
  },
  "language_info": {
   "codemirror_mode": {
    "name": "ipython",
    "version": 3
   },
   "file_extension": ".py",
   "mimetype": "text/x-python",
   "name": "python",
   "nbconvert_exporter": "python",
   "pygments_lexer": "ipython3",
   "version": "3.5.2"
  }
 },
 "nbformat": 4,
 "nbformat_minor": 2
}
